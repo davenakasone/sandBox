{
 "cells": [
  {
   "cell_type": "code",
   "execution_count": 49,
   "metadata": {},
   "outputs": [],
   "source": [
    "import math\n",
    "import matplotlib.pyplot as plt\n",
    "import numpy as np    # has linspace\n",
    "import sympy as sp\n",
    "from sympy import oo, gamma\n",
    "from sympy.functions.elementary.exponential import exp\n",
    "\n",
    "from mpl_toolkits import mplot3d\n",
    "\n",
    "x = sp.Symbol('x')\n",
    "c = sp.Symbol('c')\n",
    "c1 = sp.Symbol('c*')\n",
    "\n",
    "Y = sp.Function('Y')(x)\n",
    "P = sp.Function('P')(x)\n",
    "R = sp.Function('R')(x)\n",
    "\n"
   ]
  },
  {
   "cell_type": "code",
   "execution_count": 27,
   "metadata": {},
   "outputs": [
    {
     "data": {
      "text/latex": [
       "$\\displaystyle P{\\left(x \\right)} Y{\\left(x \\right)} + \\frac{d}{d x} Y{\\left(x \\right)} = 0$"
      ],
      "text/plain": [
       "Eq(P(x)*Y(x) + Derivative(Y(x), x), 0)"
      ]
     },
     "metadata": {},
     "output_type": "display_data"
    },
    {
     "name": "stdout",
     "output_type": "stream",
     "text": [
      "a linear homogenous 1st order ODE\n"
     ]
    }
   ],
   "source": [
    "form = sp.Eq(Y.diff(x) + P*Y, 0)\n",
    "display(form)\n",
    "print(\"a linear homogenous 1st order ODE\")\n"
   ]
  },
  {
   "cell_type": "code",
   "execution_count": 35,
   "metadata": {},
   "outputs": [
    {
     "data": {
      "text/latex": [
       "$\\displaystyle Y{\\left(x \\right)} = c e^{- \\int P{\\left(x \\right)}\\, dx}$"
      ],
      "text/plain": [
       "Eq(Y(x), c*exp(-Integral(P(x), x)))"
      ]
     },
     "metadata": {},
     "output_type": "display_data"
    },
    {
     "data": {
      "text/latex": [
       "$\\displaystyle c = e^{x^{c*}}$"
      ],
      "text/plain": [
       "Eq(c, exp(x**c*))"
      ]
     },
     "metadata": {},
     "output_type": "display_data"
    },
    {
     "name": "stdout",
     "output_type": "stream",
     "text": [
      "or\n"
     ]
    },
    {
     "data": {
      "text/latex": [
       "$\\displaystyle c = - e^{x^{c*}}$"
      ],
      "text/plain": [
       "Eq(c, -exp(x**c*))"
      ]
     },
     "metadata": {},
     "output_type": "display_data"
    }
   ],
   "source": [
    "linHomo = sp.Eq(Y, c * sp.functions.elementary.exponential.exp(-1*sp.integrate(P,x)))\n",
    "display(linHomo)\n",
    "const1 = sp.Eq(c,sp.functions.elementary.exponential.exp(x**c1))\n",
    "display(const1)\n",
    "print(\"or\")\n",
    "const2 = sp.Eq(c,-1*sp.functions.elementary.exponential.exp(x**c1))\n",
    "display(const2)"
   ]
  },
  {
   "cell_type": "code",
   "execution_count": 38,
   "metadata": {},
   "outputs": [
    {
     "data": {
      "text/latex": [
       "$\\displaystyle P{\\left(x \\right)} Y{\\left(x \\right)} + \\frac{d}{d x} Y{\\left(x \\right)} = R{\\left(x \\right)}$"
      ],
      "text/plain": [
       "Eq(P(x)*Y(x) + Derivative(Y(x), x), R(x))"
      ]
     },
     "metadata": {},
     "output_type": "display_data"
    },
    {
     "name": "stdout",
     "output_type": "stream",
     "text": [
      "a linear non-homogenous 1st order ODE\n"
     ]
    }
   ],
   "source": [
    "linNonHomo = sp.Eq(Y.diff(x) + P * Y, R)\n",
    "display(linNonHomo)\n",
    "print(\"a linear non-homogenous 1st order ODE\")"
   ]
  },
  {
   "cell_type": "code",
   "execution_count": 53,
   "metadata": {},
   "outputs": [
    {
     "data": {
      "text/latex": [
       "$\\displaystyle h = \\int P{\\left(x \\right)}\\, dx$"
      ],
      "text/plain": [
       "Eq(h, Integral(P(x), x))"
      ]
     },
     "metadata": {},
     "output_type": "display_data"
    },
    {
     "data": {
      "text/latex": [
       "$\\displaystyle Y{\\left(x \\right)} = \\left(c + \\int R{\\left(x \\right)} e^{- \\int P{\\left(x \\right)}\\, dx}\\, dx\\right) e^{- \\int P{\\left(x \\right)}\\, dx}$"
      ],
      "text/plain": [
       "Eq(Y(x), (c + Integral(R(x)*exp(-Integral(P(x), x)), x))*exp(-Integral(P(x), x)))"
      ]
     },
     "metadata": {},
     "output_type": "display_data"
    }
   ],
   "source": [
    "h = sp.Symbol('h')\n",
    "fac = sp.Eq(h, sp.integrate(P,x))\n",
    "display(fac)\n",
    "h = sp.integrate(P,x)\n",
    "sol = sp.Eq(Y, exp(-1*h) * (sp.integrate(exp(-1*h)*R,x) + c))\n",
    "display(sol)"
   ]
  },
  {
   "cell_type": "code",
   "execution_count": null,
   "metadata": {},
   "outputs": [],
   "source": []
  }
 ],
 "metadata": {
  "kernelspec": {
   "display_name": "Python 3",
   "language": "python",
   "name": "python3"
  },
  "language_info": {
   "codemirror_mode": {
    "name": "ipython",
    "version": 3
   },
   "file_extension": ".py",
   "mimetype": "text/x-python",
   "name": "python",
   "nbconvert_exporter": "python",
   "pygments_lexer": "ipython3",
   "version": "3.8.3"
  }
 },
 "nbformat": 4,
 "nbformat_minor": 4
}
