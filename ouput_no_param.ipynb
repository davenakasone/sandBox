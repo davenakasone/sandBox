{
 "cells": [
  {
   "cell_type": "code",
   "execution_count": 1,
   "id": "12ac6a0c",
   "metadata": {
    "execution": {
     "iopub.execute_input": "2024-01-21T14:52:37.780761Z",
     "iopub.status.busy": "2024-01-21T14:52:37.780263Z",
     "iopub.status.idle": "2024-01-21T14:52:37.789111Z",
     "shell.execute_reply": "2024-01-21T14:52:37.788543Z"
    },
    "papermill": {
     "duration": 0.018138,
     "end_time": "2024-01-21T14:52:37.790788",
     "exception": false,
     "start_time": "2024-01-21T14:52:37.772650",
     "status": "completed"
    },
    "tags": [
     "parameters"
    ]
   },
   "outputs": [],
   "source": [
    "a : str = 'drugs are bad'\n",
    "b : str = 'gravity probably is not a force'\n",
    "c : str = 'the earth is flat'"
   ]
  },
  {
   "cell_type": "code",
   "execution_count": 2,
   "id": "e4f1ac23",
   "metadata": {
    "execution": {
     "iopub.execute_input": "2024-01-21T14:52:37.794232Z",
     "iopub.status.busy": "2024-01-21T14:52:37.793903Z",
     "iopub.status.idle": "2024-01-21T14:52:37.796697Z",
     "shell.execute_reply": "2024-01-21T14:52:37.796305Z"
    },
    "papermill": {
     "duration": 0.005958,
     "end_time": "2024-01-21T14:52:37.798245",
     "exception": false,
     "start_time": "2024-01-21T14:52:37.792287",
     "status": "completed"
    },
    "tags": []
   },
   "outputs": [
    {
     "name": "stdout",
     "output_type": "stream",
     "text": [
      "drugs are bad\n",
      "gravity probably is not a force\n",
      "the earth is flat\n"
     ]
    }
   ],
   "source": [
    "print(a)\n",
    "print(b)\n",
    "print(c)"
   ]
  }
 ],
 "metadata": {
  "kernelspec": {
   "display_name": "Python 3",
   "language": "python",
   "name": "python3"
  },
  "language_info": {
   "codemirror_mode": {
    "name": "ipython",
    "version": 3
   },
   "file_extension": ".py",
   "mimetype": "text/x-python",
   "name": "python",
   "nbconvert_exporter": "python",
   "pygments_lexer": "ipython3",
   "version": "3.11.7"
  },
  "papermill": {
   "default_parameters": {},
   "duration": 0.978678,
   "end_time": "2024-01-21T14:52:37.915354",
   "environment_variables": {},
   "exception": null,
   "input_path": "/Users/davidnakasone/Desktop/sandBox/template_no_param.ipynb",
   "output_path": "/Users/davidnakasone/Desktop/sandBox/ouput_no_param.ipynb",
   "parameters": {},
   "start_time": "2024-01-21T14:52:36.936676",
   "version": "2.5.0"
  }
 },
 "nbformat": 4,
 "nbformat_minor": 5
}