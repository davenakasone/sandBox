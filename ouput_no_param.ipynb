{
 "cells": [
  {
   "cell_type": "code",
   "execution_count": 1,
   "id": "13b0d61f",
   "metadata": {
    "execution": {
     "iopub.execute_input": "2024-01-16T05:11:05.092424Z",
     "iopub.status.busy": "2024-01-16T05:11:05.091999Z",
     "iopub.status.idle": "2024-01-16T05:11:05.100165Z",
     "shell.execute_reply": "2024-01-16T05:11:05.099670Z"
    },
    "papermill": {
     "duration": 0.015975,
     "end_time": "2024-01-16T05:11:05.101740",
     "exception": false,
     "start_time": "2024-01-16T05:11:05.085765",
     "status": "completed"
    },
    "tags": []
   },
   "outputs": [],
   "source": [
    "a : str = 'drugs are bad'\n",
    "b : str = 'gravity probably is not a force'\n",
    "c : str = 'the earth is flat'"
   ]
  },
  {
   "cell_type": "code",
   "execution_count": 2,
   "id": "70b2a671",
   "metadata": {
    "execution": {
     "iopub.execute_input": "2024-01-16T05:11:05.105516Z",
     "iopub.status.busy": "2024-01-16T05:11:05.105298Z",
     "iopub.status.idle": "2024-01-16T05:11:05.108070Z",
     "shell.execute_reply": "2024-01-16T05:11:05.107694Z"
    },
    "papermill": {
     "duration": 0.005949,
     "end_time": "2024-01-16T05:11:05.109273",
     "exception": false,
     "start_time": "2024-01-16T05:11:05.103324",
     "status": "completed"
    },
    "tags": []
   },
   "outputs": [
    {
     "name": "stdout",
     "output_type": "stream",
     "text": [
      "drugs are bad\n",
      "gravity probably is not a force\n",
      "the earth is flat\n"
     ]
    }
   ],
   "source": [
    "print(a)\n",
    "print(b)\n",
    "print(c)"
   ]
  }
 ],
 "metadata": {
  "kernelspec": {
   "display_name": "Python 3",
   "language": "python",
   "name": "python3"
  },
  "language_info": {
   "codemirror_mode": {
    "name": "ipython",
    "version": 3
   },
   "file_extension": ".py",
   "mimetype": "text/x-python",
   "name": "python",
   "nbconvert_exporter": "python",
   "pygments_lexer": "ipython3",
   "version": "3.11.7"
  },
  "papermill": {
   "default_parameters": {},
   "duration": 0.980577,
   "end_time": "2024-01-16T05:11:05.226552",
   "environment_variables": {},
   "exception": null,
   "input_path": "/Users/davidnakasone/Desktop/sandBox/template_no_param.ipynb",
   "output_path": "/Users/davidnakasone/Desktop/sandBox/ouput_no_param.ipynb",
   "parameters": {},
   "start_time": "2024-01-16T05:11:04.245975",
   "version": "2.5.0"
  }
 },
 "nbformat": 4,
 "nbformat_minor": 5
}