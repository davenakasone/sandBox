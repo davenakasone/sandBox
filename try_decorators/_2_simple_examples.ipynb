{
 "cells": [
  {
   "cell_type": "code",
   "execution_count": 24,
   "metadata": {},
   "outputs": [],
   "source": [
    "import time\n",
    "import functools\n",
    "import math\n",
    "import random"
   ]
  },
  {
   "cell_type": "code",
   "execution_count": 25,
   "metadata": {},
   "outputs": [
    {
     "name": "stdout",
     "output_type": "stream",
     "text": [
      "b1_spin()  time:0.4372 seconds\n",
      "2\n"
     ]
    }
   ],
   "source": [
    "# basic timer (use timeit module for more percision)\n",
    "def b1_timer(fun) :\n",
    "    \"print runtime of decorated function\"\n",
    "    @functools.wraps(fun)\n",
    "    def t_wrapper(*args, **kwargs) :\n",
    "        start_t = time.perf_counter()\n",
    "        r_val = fun(*args, **kwargs)\n",
    "        end_t = time.perf_counter()\n",
    "        run_t = end_t - start_t\n",
    "        print(f\"{fun.__name__}()  time:{run_t:0.4f} seconds\") # or {fun.__name__!r} == repr()\n",
    "        return r_val\n",
    "    return t_wrapper\n",
    "\n",
    "@b1_timer\n",
    "def b1_spin(repz, idx):\n",
    "    for _ in range(repz):\n",
    "        sum([i**2 for i in range(99999)])\n",
    "    return idx+1\n",
    "b1r = 44\n",
    "b1i = 1\n",
    "print(f\"{b1_spin(b1r, b1i)}\")"
   ]
  },
  {
   "cell_type": "code",
   "execution_count": 26,
   "metadata": {},
   "outputs": [
    {
     "name": "stdout",
     "output_type": "stream",
     "text": [
      "b2_test(name='potatoe')\n",
      " failed, name=potatoe\n",
      "-->  -1\n",
      "\n",
      "b2_test('sweet potatoe', 9)\n",
      "name=sweet potatoe  ,  idx=9\n",
      "-->  10\n",
      "\n",
      "b2_test(name='sweet potatoe', idx=5)\n",
      "name=sweet potatoe  ,  idx=5\n",
      "-->  6\n",
      "\n"
     ]
    },
    {
     "data": {
      "text/plain": [
       "6"
      ]
     },
     "execution_count": 26,
     "metadata": {},
     "output_type": "execute_result"
    }
   ],
   "source": [
    "# a useful logger\n",
    "def b2_debug(fun):\n",
    "    \"\"\"print a signature + return value for logging calls\"\"\"\n",
    "    @functools.wraps(fun)\n",
    "    def d_wrapper(*args, **kwargs) :\n",
    "        rep_args = [repr(a) for a in args]\n",
    "        rep_kwargs = [f\"{k}={v!r}\" for k, v in kwargs.items()]\n",
    "        sig = \", \".join(rep_args + rep_kwargs)\n",
    "        print(f\"{fun.__name__}({sig})\")\n",
    "        rv = fun(*args, **kwargs)\n",
    "        print(f\"-->  {rv}\\n\")\n",
    "        return rv\n",
    "    return d_wrapper\n",
    "\n",
    "@b2_debug\n",
    "def b2_test(name, idx=None):\n",
    "    if idx is None :\n",
    "        print(f\" failed, name={name}\")\n",
    "        return -1\n",
    "    print(f\"name={name}  ,  idx={idx}\")\n",
    "    return idx+1\n",
    "b2_test(name=\"potatoe\")\n",
    "b2_test(\"sweet potatoe\", 9)\n",
    "b2_test(name=\"sweet potatoe\", idx=5)"
   ]
  },
  {
   "cell_type": "code",
   "execution_count": 27,
   "metadata": {},
   "outputs": [
    {
     "name": "stdout",
     "output_type": "stream",
     "text": [
      "factorial(0)\n",
      "factorial(0)\n",
      "-->  1\n",
      "\n",
      "-->  1\n",
      "\n",
      "factorial(1)\n",
      "factorial(1)\n",
      "-->  1\n",
      "\n",
      "-->  1\n",
      "\n",
      "factorial(2)\n",
      "factorial(2)\n",
      "-->  2\n",
      "\n",
      "-->  2\n",
      "\n",
      "factorial(3)\n",
      "factorial(3)\n",
      "-->  6\n",
      "\n",
      "-->  6\n",
      "\n",
      "factorial(4)\n",
      "factorial(4)\n",
      "-->  24\n",
      "\n",
      "-->  24\n",
      "\n"
     ]
    },
    {
     "data": {
      "text/plain": [
       "2.708333333333333"
      ]
     },
     "execution_count": 27,
     "metadata": {},
     "output_type": "execute_result"
    }
   ],
   "source": [
    "# apply a decorator to std library function\n",
    "math.factorial = b2_debug(math.factorial)\n",
    "def approx_e(terms=4) :\n",
    "    \"e = sum(0, oo, 1/n!)\"\n",
    "    return sum((1/math.factorial(n)) for n in range(terms))\n",
    "approx_e(5)"
   ]
  },
  {
   "cell_type": "code",
   "execution_count": 28,
   "metadata": {},
   "outputs": [
    {
     "name": "stdout",
     "output_type": "stream",
     "text": [
      "5\n",
      "4\n",
      "3\n",
      "2\n",
      "1\n",
      "complete\n"
     ]
    }
   ],
   "source": [
    "# slow down, rate limit (ie only check every second if a server is available)\n",
    "def b3_slow(fun) :\n",
    "    \"\"\"sleep 1 s before call\"\"\"\n",
    "    @functools.wraps(fun)\n",
    "    def s_wrap(*args, **kwargs) :\n",
    "        time.sleep(1)\n",
    "        return fun(*args, **kwargs)\n",
    "    return s_wrap\n",
    "\n",
    "@b3_slow\n",
    "def b3_test(n_from):\n",
    "    if n_from < 1 :\n",
    "        print(\"complete\")\n",
    "    else :\n",
    "        print(n_from)\n",
    "        b3_test(n_from-1) # recursion\n",
    "b3_test(5)"
   ]
  },
  {
   "cell_type": "code",
   "execution_count": 41,
   "metadata": {},
   "outputs": [
    {
     "name": "stdout",
     "output_type": "stream",
     "text": [
      "Mike is a terrorist | 51-cent is a terrorist | Vladimir is a terrorist\n"
     ]
    }
   ],
   "source": [
    "# decorator not used on function, just confirms function exists and returns unwrapped\n",
    "b4_PLUGINS = dict()\n",
    "\n",
    "def b4_register(fun) :\n",
    "    \"\"\"registers the function as a plugin\"\"\"\n",
    "    b4_PLUGINS[fun.__name__] = fun\n",
    "    return fun # this is the original function, unmodified (no inner wrap needed)\n",
    "\n",
    "@b4_register\n",
    "def b4_imbelish(name):\n",
    "    return f\"{name} is a good person\"\n",
    "\n",
    "@b4_register\n",
    "def b4_slander(name):\n",
    "    return f\"{name} is a terrorist\"\n",
    "\n",
    "def b4_judge(name):\n",
    "    k,v = random.choice(list(b4_PLUGINS.items()))\n",
    "    return v(name)\n",
    "print(f\"{b4_judge('Mike')} | {b4_judge('51-cent')} | {b4_judge('Vladimir')}\")\n",
    "# just define a function and decorate it with register to keep track of your list\n",
    "# this effictively picks your functions from globals()\n"
   ]
  }
 ],
 "metadata": {
  "kernelspec": {
   "display_name": "Python 3",
   "language": "python",
   "name": "python3"
  },
  "language_info": {
   "codemirror_mode": {
    "name": "ipython",
    "version": 3
   },
   "file_extension": ".py",
   "mimetype": "text/x-python",
   "name": "python",
   "nbconvert_exporter": "python",
   "pygments_lexer": "ipython3",
   "version": "3.11.0"
  },
  "orig_nbformat": 4,
  "vscode": {
   "interpreter": {
    "hash": "aee8b7b246df8f9039afb4144a1f6fd8d2ca17a180786b69acc140d282b71a49"
   }
  }
 },
 "nbformat": 4,
 "nbformat_minor": 2
}
