{
 "cells": [
  {
   "cell_type": "code",
   "execution_count": 1,
   "metadata": {},
   "outputs": [
    {
     "name": "stdout",
     "output_type": "stream",
     "text": [
      "raw call:  called my_fun1() // <function my_fun1 at 0x10a877560>\n",
      "pointer call:  called my_fun1() // <function my_fun1 at 0x10a877560>\n",
      "\n",
      "called my_fun2()raw call:  None // <function my_fun2 at 0x10a877600>\n",
      "called my_fun2()pointer call:  None // <function my_fun2 at 0x10a877600>\n",
      "\n",
      "raw call:  9 // <function my_fun3 at 0x10a877740>\n",
      "pointer call:  9 // <function my_fun3 at 0x10a877740>\n",
      "\n"
     ]
    }
   ],
   "source": [
    "# functions can be nested in other functions (only accessable by the scope)\n",
    "def my_fun1() :\n",
    "    return \"called my_fun1()\"\n",
    "def my_fun2() :\n",
    "    print(\"called my_fun2()\", end='')\n",
    "def my_fun3(num:int=9) :\n",
    "    return num\n",
    "# assigning a python function without () does not execute the function\n",
    "fptr1 = my_fun1\n",
    "print(f\"raw call:  {my_fun1()} // {my_fun1}\")\n",
    "print(f\"pointer call:  {fptr1()} // {fptr1}\\n\")\n",
    "fptr2 = my_fun2\n",
    "print(f\"raw call:  {my_fun2()} // {my_fun2}\")\n",
    "print(f\"pointer call:  {fptr2()} // {fptr2}\\n\")\n",
    "fptr3 = my_fun3\n",
    "print(f\"raw call:  {my_fun3()} // {my_fun3}\")\n",
    "print(f\"pointer call:  {fptr3()} // {fptr3}\\n\")"
   ]
  },
  {
   "cell_type": "code",
   "execution_count": 2,
   "metadata": {},
   "outputs": [
    {
     "name": "stdout",
     "output_type": "stream",
     "text": [
      "read a book\n"
     ]
    },
    {
     "data": {
      "text/plain": [
       "<function __main__.innerf()>"
      ]
     },
     "execution_count": 2,
     "metadata": {},
     "output_type": "execute_result"
    }
   ],
   "source": [
    "def innerf() :\n",
    "    print(\"read a book\")\n",
    "    return innerf # function can be returned for later use\n",
    "homework = innerf\n",
    "homework()"
   ]
  },
  {
   "cell_type": "code",
   "execution_count": 3,
   "metadata": {},
   "outputs": [
    {
     "name": "stdout",
     "output_type": "stream",
     "text": [
      "you are a bum\n",
      "make $\n"
     ]
    }
   ],
   "source": [
    "def f_as_arg(farg) : # function as an argument/parameter to another functions\n",
    "    farg()\n",
    "    print(\"make $\")\n",
    "def anyf() :\n",
    "    print(\"you are a bum\")\n",
    "f_as_arg(anyf)"
   ]
  },
  {
   "cell_type": "code",
   "execution_count": 4,
   "metadata": {},
   "outputs": [
    {
     "name": "stdout",
     "output_type": "stream",
     "text": [
      "backup  ,  2023-01-01 13:14:32\n",
      "backup complete\n",
      "_backup  ,  2023-01-01 13:14:32\n",
      "backup complete\n"
     ]
    }
   ],
   "source": [
    "# decorating example\n",
    "from datetime import datetime\n",
    "def log_dt(func) :\n",
    "    def wrapper() :\n",
    "        print(f\"{func.__name__}  ,  {datetime.today().strftime('%Y-%m-%d %H:%M:%S')}\")\n",
    "        func()\n",
    "    return wrapper\n",
    "\n",
    "@log_dt   # decorator gets placed on function you want to be wrapped\n",
    "def backup():\n",
    "    print(\"backup complete\")\n",
    "backup()\n",
    "\n",
    "# equivelent, no decorator\n",
    "def _backup():\n",
    "    print(\"backup complete\")\n",
    "ebackup = log_dt(_backup)\n",
    "ebackup()"
   ]
  },
  {
   "cell_type": "code",
   "execution_count": 5,
   "metadata": {},
   "outputs": [
    {
     "name": "stdout",
     "output_type": "stream",
     "text": [
      "decorator got arg==(1,)\n",
      "decorator complete\n",
      "called with 1, returend 2\n",
      "\n",
      "decorator got arg==(2,)\n",
      "decorator complete\n",
      "called with 2, returend 3\n",
      "\n",
      "decorator got arg==(3,)\n",
      "decorator complete\n",
      "called with 3, returend 4\n",
      "\n"
     ]
    }
   ],
   "source": [
    "# decorators with arguments\n",
    "# *args is for unlimited arguments of any type (99)\n",
    "# **kwargs is unlimited number of keyword arguments (count=99)\n",
    "# BOILER PLATE\n",
    "import functools\n",
    "def my_d(f):\n",
    "    @functools.wraps(f) # to preserve name\n",
    "    def wrap(*args, **kwargs) : # taking any number of positional + key:word args makes decorator more reusable\n",
    "        # can do something before\n",
    "        print(f\"decorator got arg=={args}\")\n",
    "        \n",
    "        temp = f(*args, **kwargs) # basic call, store value\n",
    "        \n",
    "        # can do something after\n",
    "        print(\"decorator complete\")\n",
    "        \n",
    "        return temp\n",
    "    return wrap\n",
    "\n",
    "@my_d\n",
    "def plus1(x) :\n",
    "    return x + 1\n",
    "\n",
    "ar = 1\n",
    "rv = plus1(ar) # call immidiately, store return value\n",
    "print(f\"called with {ar}, returend {rv}\\n\")\n",
    "srv = plus1 # rereference, call later\n",
    "print(f\"called with {2}, returend {srv(2)}\\n\")\n",
    "print(f\"called with {3}, returend {plus1(3)}\\n\") # call inline\n"
   ]
  }
 ],
 "metadata": {
  "kernelspec": {
   "display_name": "Python 3",
   "language": "python",
   "name": "python3"
  },
  "language_info": {
   "codemirror_mode": {
    "name": "ipython",
    "version": 3
   },
   "file_extension": ".py",
   "mimetype": "text/x-python",
   "name": "python",
   "nbconvert_exporter": "python",
   "pygments_lexer": "ipython3",
   "version": "3.11.0"
  },
  "orig_nbformat": 4,
  "vscode": {
   "interpreter": {
    "hash": "aee8b7b246df8f9039afb4144a1f6fd8d2ca17a180786b69acc140d282b71a49"
   }
  }
 },
 "nbformat": 4,
 "nbformat_minor": 2
}
