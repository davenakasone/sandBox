{
 "cells": [
  {
   "cell_type": "code",
   "execution_count": 76,
   "metadata": {},
   "outputs": [],
   "source": [
    "import numpy as np\n",
    "import pandas as pd"
   ]
  },
  {
   "attachments": {},
   "cell_type": "markdown",
   "metadata": {},
   "source": [
    "# pandas series (1 of 2 foundational data structures)\n",
    "- series is a sequence of elements that looks like a python list or numpy array\n",
    "- you can assign a lot of attributes to it (associated datatype, name, etc)\n",
    "- under this is a numpy array\n",
    "- make it like a dictionary (but ordered)"
   ]
  },
  {
   "cell_type": "code",
   "execution_count": 77,
   "metadata": {},
   "outputs": [
    {
     "name": "stdout",
     "output_type": "stream",
     "text": [
      "0     35.467\n",
      "1     63.951\n",
      "2     80.940\n",
      "3     60.665\n",
      "4    127.061\n",
      "5     64.511\n",
      "6    318.523\n",
      "Name: G7 Population in millions of people, dtype: float64\n"
     ]
    }
   ],
   "source": [
    "g7_pop = pd.Series([35.467, 63.951, 80.940, 60.665, 127.061, 64.511, 318.523]) # population of g7 countries in millions of people\n",
    "g7_pop.name = \"G7 Population in millions of people\" # give data structure a name\n",
    "print(g7_pop)\n"
   ]
  },
  {
   "cell_type": "code",
   "execution_count": 78,
   "metadata": {},
   "outputs": [
    {
     "data": {
      "text/plain": [
       "80.94"
      ]
     },
     "execution_count": 78,
     "metadata": {},
     "output_type": "execute_result"
    }
   ],
   "source": [
    "g7_pop[2] # can select elements, each series gets an index (default)"
   ]
  },
  {
   "cell_type": "code",
   "execution_count": 79,
   "metadata": {},
   "outputs": [
    {
     "name": "stdout",
     "output_type": "stream",
     "text": [
      "Canada      35.467\n",
      "France      63.951\n",
      "Germany     80.940\n",
      "Italy       60.665\n",
      "Japan      127.061\n",
      "UK          64.511\n",
      "USA        318.523\n",
      "Name: G7 Population in millions of people, dtype: float64\n"
     ]
    }
   ],
   "source": [
    "g7_pop.index = [\n",
    "    \"Canada\",\n",
    "    \"France\",\n",
    "    \"Germany\",\n",
    "    \"Italy\",\n",
    "    \"Japan\",\n",
    "    \"UK\",\n",
    "    \"USA\"\n",
    "]# explicit index for the series (now you can refer to element in the series by a meaningful name)\n",
    "print(g7_pop)"
   ]
  },
  {
   "cell_type": "code",
   "execution_count": 80,
   "metadata": {},
   "outputs": [
    {
     "name": "stdout",
     "output_type": "stream",
     "text": [
      "Canada      35.467\n",
      "France      63.951\n",
      "Germany     80.940\n",
      "Italy       60.665\n",
      "Japan      127.061\n",
      "UK          64.511\n",
      "USA        318.523\n",
      "Name: G7 Population in millions of people, dtype: float64\n"
     ]
    }
   ],
   "source": [
    "# another option\n",
    "g7 = pd.Series(\n",
    "    {\n",
    "    'Canada' : 35.467,\n",
    "    'France' : 63.951,\n",
    "    'Germany': 80.94,\n",
    "    'Italy'  : 60.665,\n",
    "    'Japan'  : 127.061,\n",
    "    'UK'     : 64.511,\n",
    "    'USA'    : 318.523\n",
    "    },\n",
    "    name=\"G7 Population in millions of people\")\n",
    "print(g7)\n"
   ]
  },
  {
   "cell_type": "code",
   "execution_count": 81,
   "metadata": {},
   "outputs": [
    {
     "name": "stdout",
     "output_type": "stream",
     "text": [
      "Canada      35.467\n",
      "France      63.951\n",
      "Germany     80.940\n",
      "Italy       60.665\n",
      "Japan      127.061\n",
      "UK          64.511\n",
      "USA        318.523\n",
      "Name: G7 Population in millions of people, dtype: float64\n"
     ]
    }
   ],
   "source": [
    "# another option\n",
    "g77 = pd.Series(\n",
    "    [35.467, 63.951, 80.940, 60.665, 127.061, 64.511, 318.523],\n",
    "    index=[\"Canada\", \"France\", \"Germany\", \"Italy\", \"Japan\", \"UK\", \"USA\"],\n",
    "    name=\"G7 Population in millions of people\")\n",
    "print(g77)"
   ]
  },
  {
   "cell_type": "code",
   "execution_count": 82,
   "metadata": {},
   "outputs": [
    {
     "data": {
      "text/plain": [
       "64.511"
      ]
     },
     "execution_count": 82,
     "metadata": {},
     "output_type": "execute_result"
    }
   ],
   "source": [
    "# then just use the index...\n",
    "g7['UK']"
   ]
  },
  {
   "cell_type": "code",
   "execution_count": 83,
   "metadata": {},
   "outputs": [
    {
     "data": {
      "text/plain": [
       "318.523"
      ]
     },
     "execution_count": 83,
     "metadata": {},
     "output_type": "execute_result"
    }
   ],
   "source": [
    "# it is still ordered...use the .iloc\n",
    "g7.iloc[-1] # last element"
   ]
  },
  {
   "cell_type": "code",
   "execution_count": 84,
   "metadata": {},
   "outputs": [
    {
     "data": {
      "text/plain": [
       "63.951"
      ]
     },
     "execution_count": 84,
     "metadata": {},
     "output_type": "execute_result"
    }
   ],
   "source": [
    "# get by a search, .loc\n",
    "g7.loc['France']"
   ]
  },
  {
   "cell_type": "code",
   "execution_count": 85,
   "metadata": {},
   "outputs": [
    {
     "data": {
      "text/plain": [
       "Italy      60.665\n",
       "Germany    80.940\n",
       "Name: G7 Population in millions of people, dtype: float64"
      ]
     },
     "execution_count": 85,
     "metadata": {},
     "output_type": "execute_result"
    }
   ],
   "source": [
    "# get a few, by name\n",
    "g7[['Italy', 'Germany']]"
   ]
  },
  {
   "cell_type": "code",
   "execution_count": 86,
   "metadata": {},
   "outputs": [
    {
     "data": {
      "text/plain": [
       "Italy     60.665\n",
       "Japan    127.061\n",
       "Name: G7 Population in millions of people, dtype: float64"
      ]
     },
     "execution_count": 86,
     "metadata": {},
     "output_type": "execute_result"
    }
   ],
   "source": [
    "# get a few, by index\n",
    "g7.iloc[[3, 4]]"
   ]
  },
  {
   "cell_type": "code",
   "execution_count": 87,
   "metadata": {},
   "outputs": [
    {
     "data": {
      "text/plain": [
       "Canada     35.467\n",
       "France     63.951\n",
       "Germany    80.940\n",
       "Italy      60.665\n",
       "Name: G7 Population in millions of people, dtype: float64"
      ]
     },
     "execution_count": 87,
     "metadata": {},
     "output_type": "execute_result"
    }
   ],
   "source": [
    "# the upper limit IS included for pandas\n",
    "g7['Canada' : 'Italy'] # includes Italy..."
   ]
  },
  {
   "cell_type": "code",
   "execution_count": 88,
   "metadata": {},
   "outputs": [
    {
     "data": {
      "text/plain": [
       "Japan    127.061\n",
       "UK        64.511\n",
       "Name: G7 Population in millions of people, dtype: float64"
      ]
     },
     "execution_count": 88,
     "metadata": {},
     "output_type": "execute_result"
    }
   ],
   "source": [
    "g7.iloc[4:6] # upper limit not included"
   ]
  },
  {
   "attachments": {},
   "cell_type": "markdown",
   "metadata": {},
   "source": [
    "# operations\n",
    "- performed directly on top of the pandas data structure\n",
    "- broadcast basic arithmetic, boolean (logical), comparison, and other operations\n",
    "- good for selection/filtering"
   ]
  },
  {
   "cell_type": "code",
   "execution_count": 89,
   "metadata": {},
   "outputs": [
    {
     "data": {
      "text/plain": [
       "Canada     False\n",
       "France     False\n",
       "Germany     True\n",
       "Italy      False\n",
       "Japan       True\n",
       "UK         False\n",
       "USA         True\n",
       "Name: G7 Population in millions of people, dtype: bool"
      ]
     },
     "execution_count": 89,
     "metadata": {},
     "output_type": "execute_result"
    }
   ],
   "source": [
    "g7 > 70"
   ]
  },
  {
   "cell_type": "code",
   "execution_count": 90,
   "metadata": {},
   "outputs": [
    {
     "data": {
      "text/plain": [
       "France      63.951\n",
       "Germany     80.940\n",
       "Italy       60.665\n",
       "Japan      127.061\n",
       "UK          64.511\n",
       "USA        318.523\n",
       "Name: G7 Population in millions of people, dtype: float64"
      ]
     },
     "execution_count": 90,
     "metadata": {},
     "output_type": "execute_result"
    }
   ],
   "source": [
    "g7[g7 > 50]"
   ]
  },
  {
   "cell_type": "code",
   "execution_count": 91,
   "metadata": {},
   "outputs": [
    {
     "data": {
      "text/plain": [
       "Japan    127.061\n",
       "USA      318.523\n",
       "Name: G7 Population in millions of people, dtype: float64"
      ]
     },
     "execution_count": 91,
     "metadata": {},
     "output_type": "execute_result"
    }
   ],
   "source": [
    "g7[g7 > g7.mean()]"
   ]
  },
  {
   "cell_type": "code",
   "execution_count": 92,
   "metadata": {},
   "outputs": [
    {
     "data": {
      "text/plain": [
       "Canada     35.467\n",
       "Japan     127.061\n",
       "USA       318.523\n",
       "Name: G7 Population in millions of people, dtype: float64"
      ]
     },
     "execution_count": 92,
     "metadata": {},
     "output_type": "execute_result"
    }
   ],
   "source": [
    "g7[(g7 < 50) | (g7 > g7.mean()-10)]"
   ]
  },
  {
   "cell_type": "code",
   "execution_count": 93,
   "metadata": {},
   "outputs": [
    {
     "data": {
      "text/plain": [
       "Canada      35467000.0\n",
       "France      63951000.0\n",
       "Germany     80940000.0\n",
       "Italy       60665000.0\n",
       "Japan      127061000.0\n",
       "UK          64511000.0\n",
       "USA        318523000.0\n",
       "Name: G7 Population in millions of people, dtype: float64"
      ]
     },
     "execution_count": 93,
     "metadata": {},
     "output_type": "execute_result"
    }
   ],
   "source": [
    "g7 * 1_000_000"
   ]
  },
  {
   "cell_type": "code",
   "execution_count": 94,
   "metadata": {},
   "outputs": [
    {
     "data": {
      "text/plain": [
       "Canada     3.568603\n",
       "France     4.158117\n",
       "Germany    4.393708\n",
       "Italy      4.105367\n",
       "Japan      4.844667\n",
       "UK         4.166836\n",
       "USA        5.763695\n",
       "Name: G7 Population in millions of people, dtype: float64"
      ]
     },
     "execution_count": 94,
     "metadata": {},
     "output_type": "execute_result"
    }
   ],
   "source": [
    "np.log(g7) # numpy operations are ok on a pandas series"
   ]
  },
  {
   "attachments": {},
   "cell_type": "markdown",
   "metadata": {},
   "source": [
    "# modifications\n",
    "- simple reassignment like other libraries"
   ]
  },
  {
   "cell_type": "code",
   "execution_count": 95,
   "metadata": {},
   "outputs": [
    {
     "name": "stdout",
     "output_type": "stream",
     "text": [
      "Canada      44.400\n",
      "France      63.951\n",
      "Germany     80.940\n",
      "Italy       60.665\n",
      "Japan      127.061\n",
      "UK          64.511\n",
      "USA        411.220\n",
      "Name: G7 Population in millions of people, dtype: float64\n"
     ]
    }
   ],
   "source": [
    "g77['Canada'] = 44.4 # by name\n",
    "g77[-1] = 411.22 # by index\n",
    "print(g77)"
   ]
  },
  {
   "cell_type": "code",
   "execution_count": 96,
   "metadata": {},
   "outputs": [
    {
     "name": "stdout",
     "output_type": "stream",
     "text": [
      "Canada      99.990\n",
      "France      99.990\n",
      "Germany     99.990\n",
      "Italy       99.990\n",
      "Japan      127.061\n",
      "UK          99.990\n",
      "USA        411.220\n",
      "Name: G7 Population in millions of people, dtype: float64\n"
     ]
    }
   ],
   "source": [
    "g77[g77 < 100] = 99.99 # conditional assignment\n",
    "print(g77)"
   ]
  }
 ],
 "metadata": {
  "kernelspec": {
   "display_name": "Python 3",
   "language": "python",
   "name": "python3"
  },
  "language_info": {
   "codemirror_mode": {
    "name": "ipython",
    "version": 3
   },
   "file_extension": ".py",
   "mimetype": "text/x-python",
   "name": "python",
   "nbconvert_exporter": "python",
   "pygments_lexer": "ipython3",
   "version": "3.11.0"
  },
  "orig_nbformat": 4,
  "vscode": {
   "interpreter": {
    "hash": "aee8b7b246df8f9039afb4144a1f6fd8d2ca17a180786b69acc140d282b71a49"
   }
  }
 },
 "nbformat": 4,
 "nbformat_minor": 2
}
