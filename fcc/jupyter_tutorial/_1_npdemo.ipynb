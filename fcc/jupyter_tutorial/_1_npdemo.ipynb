{
 "cells": [
  {
   "cell_type": "code",
   "execution_count": 2,
   "id": "71b3b4de-c514-4bea-a69f-a010f8d60a45",
   "metadata": {
    "tags": []
   },
   "outputs": [],
   "source": [
    "import numpy as np\n",
    "import sys"
   ]
  },
  {
   "cell_type": "code",
   "execution_count": 3,
   "id": "5702e9d7-4313-4005-9336-7005707a6bb6",
   "metadata": {},
   "outputs": [],
   "source": [
    "a = np.array([1,2,3,4]) # library will pick the datatype for you"
   ]
  },
  {
   "cell_type": "code",
   "execution_count": 4,
   "id": "107d9a09-d81a-4d8d-b0cd-29b0de6a451e",
   "metadata": {},
   "outputs": [],
   "source": [
    "b = np.array([0, 0.5, 1, 1.2, 2])"
   ]
  },
  {
   "cell_type": "code",
   "execution_count": 5,
   "id": "076dfa8a",
   "metadata": {},
   "outputs": [
    {
     "data": {
      "text/plain": [
       "(1, 2)"
      ]
     },
     "execution_count": 5,
     "metadata": {},
     "output_type": "execute_result"
    }
   ],
   "source": [
    "a[0], a[1] # get some elements"
   ]
  },
  {
   "cell_type": "code",
   "execution_count": 6,
   "id": "a98ae5a0",
   "metadata": {},
   "outputs": [
    {
     "data": {
      "text/plain": [
       "array([1, 2, 3, 4])"
      ]
     },
     "execution_count": 6,
     "metadata": {},
     "output_type": "execute_result"
    }
   ],
   "source": [
    "a[0:]   # first element to end"
   ]
  },
  {
   "cell_type": "code",
   "execution_count": 7,
   "id": "9ff6b4d5",
   "metadata": {},
   "outputs": [
    {
     "data": {
      "text/plain": [
       "array([0., 1., 2.])"
      ]
     },
     "execution_count": 7,
     "metadata": {},
     "output_type": "execute_result"
    }
   ],
   "source": [
    "b[[0, 2, -1]] # first, third, and last element (another numpy array)"
   ]
  },
  {
   "cell_type": "code",
   "execution_count": 8,
   "id": "225edda0",
   "metadata": {},
   "outputs": [
    {
     "data": {
      "text/plain": [
       "(0.0, 1.0, 2.0)"
      ]
     },
     "execution_count": 8,
     "metadata": {},
     "output_type": "execute_result"
    }
   ],
   "source": [
    "b[0], b[2], b[-1] # first, third, and last element (same, but tupple)"
   ]
  },
  {
   "cell_type": "code",
   "execution_count": 9,
   "id": "6fbe6b6d",
   "metadata": {},
   "outputs": [
    {
     "data": {
      "text/plain": [
       "dtype('int64')"
      ]
     },
     "execution_count": 9,
     "metadata": {},
     "output_type": "execute_result"
    }
   ],
   "source": [
    "a.dtype # it does this because of platform you are on"
   ]
  },
  {
   "cell_type": "code",
   "execution_count": 10,
   "id": "c57c7980",
   "metadata": {},
   "outputs": [
    {
     "data": {
      "text/plain": [
       "dtype('float64')"
      ]
     },
     "execution_count": 10,
     "metadata": {},
     "output_type": "execute_result"
    }
   ],
   "source": [
    "b.dtype # there was a floating point number"
   ]
  },
  {
   "attachments": {},
   "cell_type": "markdown",
   "id": "5e3b2cc4",
   "metadata": {},
   "source": [
    "# Multi Dimension"
   ]
  },
  {
   "cell_type": "code",
   "execution_count": 24,
   "id": "4ad1cf7a",
   "metadata": {},
   "outputs": [
    {
     "name": "stdout",
     "output_type": "stream",
     "text": [
      "(rows,cols):(3, 3)  ,  ndim:2  ,  elements:9  ,  dtype:int64\n"
     ]
    }
   ],
   "source": [
    "A = np.array([\n",
    "    [1, 2, 3],\n",
    "    [4, 5, 6],\n",
    "    [7, 8, 9]\n",
    "])\n",
    "print(f\"(rows,cols):{A.shape}  ,  ndim:{A.ndim}  ,  elements:{A.size}  ,  dtype:{A.dtype}\")"
   ]
  },
  {
   "cell_type": "code",
   "execution_count": 25,
   "id": "676b9a17",
   "metadata": {},
   "outputs": [
    {
     "data": {
      "text/plain": [
       "array([4, 5, 6])"
      ]
     },
     "execution_count": 25,
     "metadata": {},
     "output_type": "execute_result"
    }
   ],
   "source": [
    "A[1] # picks 2nd row"
   ]
  },
  {
   "cell_type": "code",
   "execution_count": 26,
   "id": "a2dcbdf7",
   "metadata": {},
   "outputs": [
    {
     "data": {
      "text/plain": [
       "6"
      ]
     },
     "execution_count": 26,
     "metadata": {},
     "output_type": "execute_result"
    }
   ],
   "source": [
    "A[1,2] # row 1, col 2  (prefered, good for slicing)"
   ]
  },
  {
   "cell_type": "code",
   "execution_count": 27,
   "id": "e7641c2c",
   "metadata": {},
   "outputs": [
    {
     "data": {
      "text/plain": [
       "6"
      ]
     },
     "execution_count": 27,
     "metadata": {},
     "output_type": "execute_result"
    }
   ],
   "source": [
    "A[1][2] # row 1, col 2 (c-style)"
   ]
  },
  {
   "cell_type": "code",
   "execution_count": 28,
   "id": "e090a0c1",
   "metadata": {},
   "outputs": [
    {
     "data": {
      "text/plain": [
       "array([[1, 2, 3],\n",
       "       [4, 5, 6]])"
      ]
     },
     "execution_count": 28,
     "metadata": {},
     "output_type": "execute_result"
    }
   ],
   "source": [
    "A[0:2] # select up to last row (all cols)"
   ]
  },
  {
   "cell_type": "code",
   "execution_count": 29,
   "id": "f125f163",
   "metadata": {},
   "outputs": [
    {
     "data": {
      "text/plain": [
       "array([[1, 2],\n",
       "       [4, 5],\n",
       "       [7, 8]])"
      ]
     },
     "execution_count": 29,
     "metadata": {},
     "output_type": "execute_result"
    }
   ],
   "source": [
    "A[:,:2] # select all rows, up to last column"
   ]
  },
  {
   "cell_type": "code",
   "execution_count": 31,
   "id": "822ab22f",
   "metadata": {},
   "outputs": [
    {
     "name": "stdout",
     "output_type": "stream",
     "text": [
      "[[97 98 99]\n",
      " [ 4  5  6]\n",
      " [ 7  8  9]]\n"
     ]
    }
   ],
   "source": [
    "A[0] = np.array([97, 98, 99], dtype=A.dtype) # reassign first row, dimensions must match\n",
    "print(A)"
   ]
  },
  {
   "cell_type": "code",
   "execution_count": 32,
   "id": "7b0d894a",
   "metadata": {},
   "outputs": [
    {
     "name": "stdout",
     "output_type": "stream",
     "text": [
      "[[97 98 99]\n",
      " [ 4  5  6]\n",
      " [ 7  8 66]]\n"
     ]
    }
   ],
   "source": [
    "A[2,2] = 66 # assign a single element\n",
    "print(A)"
   ]
  },
  {
   "cell_type": "code",
   "execution_count": 18,
   "id": "646dff15",
   "metadata": {},
   "outputs": [
    {
     "name": "stdout",
     "output_type": "stream",
     "text": [
      "(depth,rows,cols):(2, 3, 4)  ,  ndim:3  ,  elements:24  ,  dtype:int64\n"
     ]
    }
   ],
   "source": [
    "# dimensions must match\n",
    "B = np.array([\n",
    "    [\n",
    "        [1, 2, 3, 4],\n",
    "        [5, 6, 7, 8],\n",
    "        [9, 10, 11, 12]\n",
    "    ],\n",
    "    [\n",
    "        \n",
    "        [13, 14, 15, 16],\n",
    "        [17, 18, 19, 20],\n",
    "        [21, 22, 23, 24]\n",
    "    ]\n",
    "])\n",
    "print(f\"(depth,rows,cols):{B.shape}  ,  ndim:{B.ndim}  ,  elements:{B.size}  ,  dtype:{B.dtype}\")"
   ]
  },
  {
   "cell_type": "code",
   "execution_count": 33,
   "id": "6d720385",
   "metadata": {},
   "outputs": [
    {
     "data": {
      "text/plain": [
       "300"
      ]
     },
     "execution_count": 33,
     "metadata": {},
     "output_type": "execute_result"
    }
   ],
   "source": [
    "B.sum()"
   ]
  },
  {
   "cell_type": "code",
   "execution_count": 34,
   "id": "656fcf5b",
   "metadata": {},
   "outputs": [
    {
     "data": {
      "text/plain": [
       "12.5"
      ]
     },
     "execution_count": 34,
     "metadata": {},
     "output_type": "execute_result"
    }
   ],
   "source": [
    "B.mean()"
   ]
  },
  {
   "cell_type": "code",
   "execution_count": 35,
   "id": "43350be6",
   "metadata": {},
   "outputs": [
    {
     "data": {
      "text/plain": [
       "6.922186552431729"
      ]
     },
     "execution_count": 35,
     "metadata": {},
     "output_type": "execute_result"
    }
   ],
   "source": [
    "B.std()"
   ]
  },
  {
   "cell_type": "code",
   "execution_count": 36,
   "id": "55796217",
   "metadata": {},
   "outputs": [
    {
     "data": {
      "text/plain": [
       "array([[14, 16, 18, 20],\n",
       "       [22, 24, 26, 28],\n",
       "       [30, 32, 34, 36]])"
      ]
     },
     "execution_count": 36,
     "metadata": {},
     "output_type": "execute_result"
    }
   ],
   "source": [
    "B.sum(axis=0)"
   ]
  }
 ],
 "metadata": {
  "kernelspec": {
   "display_name": "Python 3 (ipykernel)",
   "language": "python",
   "name": "python3"
  },
  "language_info": {
   "codemirror_mode": {
    "name": "ipython",
    "version": 3
   },
   "file_extension": ".py",
   "mimetype": "text/x-python",
   "name": "python",
   "nbconvert_exporter": "python",
   "pygments_lexer": "ipython3",
   "version": "3.11.0 (v3.11.0:deaf509e8f, Oct 24 2022, 14:43:23) [Clang 13.0.0 (clang-1300.0.29.30)]"
  },
  "vscode": {
   "interpreter": {
    "hash": "aee8b7b246df8f9039afb4144a1f6fd8d2ca17a180786b69acc140d282b71a49"
   }
  }
 },
 "nbformat": 4,
 "nbformat_minor": 5
}
