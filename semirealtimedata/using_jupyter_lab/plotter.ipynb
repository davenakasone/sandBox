{
 "cells": [
  {
   "cell_type": "code",
   "execution_count": null,
   "id": "29376448",
   "metadata": {},
   "outputs": [],
   "source": [
    "# get the common modules/libraries\n",
    "from IPython.display import display\n",
    "import ipywidgets\n",
    "import matplotlib.pyplot as plt\n",
    "import sys\n",
    "import os\n",
    "import pandas as pd"
   ]
  },
  {
   "cell_type": "code",
   "execution_count": null,
   "id": "5b645716",
   "metadata": {},
   "outputs": [],
   "source": [
    "# establish constants\n",
    "MAXPTS:int=33\n",
    "DEBUG:bool=False"
   ]
  },
  {
   "cell_type": "code",
   "execution_count": null,
   "id": "03f8ba60",
   "metadata": {},
   "outputs": [],
   "source": [
    "# get the configuration variables\n",
    "sys.path.append(os.path.abspath('../'))\n",
    "from configurations import(\n",
    "    TSTAMP,\n",
    "    FIELDS_ALL,\n",
    "    FIELDS_AMPS,\n",
    "    FIELDS_CELSIUS,\n",
    "    ANCHOR_FILE\n",
    ")"
   ]
  },
  {
   "cell_type": "code",
   "execution_count": null,
   "id": "aab4126c",
   "metadata": {},
   "outputs": [],
   "source": [
    "# see if the data is available\n",
    "datafile=''\n",
    "with open(ANCHOR_FILE, 'r') as fp:\n",
    "    lines=fp.readlines()\n",
    "datafile=lines[0].strip()\n",
    "if DEBUG is True:\n",
    "    print(f'using data in:\\n\\t{datafile}')\n"
   ]
  },
  {
   "cell_type": "code",
   "execution_count": null,
   "id": "1eb20e4b",
   "metadata": {},
   "outputs": [],
   "source": [
    "# get the data\n",
    "df=pd.read_csv(datafile)\n",
    "if DEBUG is True:\n",
    "    print(f'rows   : {df.shape[0]}')\n",
    "    print(f'columns: {df.shape[1]}')\n",
    "    display(df.dtypes)\n",
    "    display(df.head(3))"
   ]
  },
  {
   "cell_type": "code",
   "execution_count": null,
   "id": "41071fa2",
   "metadata": {},
   "outputs": [],
   "source": [
    "# establish the first and last time stamp\n",
    "START:float=df[TSTAMP].min()\n",
    "STOP:float=df[TSTAMP].max()\n",
    "if DEBUG is True:\n",
    "    print(f'data start time: {START:0.3f}') \n",
    "    print(f'data end time  : {STOP:0.3f}')"
   ]
  },
  {
   "cell_type": "code",
   "execution_count": null,
   "id": "96d8923d",
   "metadata": {},
   "outputs": [],
   "source": [
    "# decide how many points to use\n",
    "if df[TSTAMP].size < MAXPTS:\n",
    "    MAXPTS=df[TSTAMP].size\n",
    "if DEBUG is True:\n",
    "    print(f'will use last {MAXPTS} samples')"
   ]
  },
  {
   "cell_type": "code",
   "execution_count": null,
   "id": "3c2d44c3",
   "metadata": {},
   "outputs": [],
   "source": [
    "# the amps and celsius plot\n",
    "def plot_ac(nrecent:int=MAXPTS):\n",
    "    fig, ax1 = plt.subplots()\n",
    "    color = 'tab:red'\n",
    "    ax1.set_xlabel('time.time()')\n",
    "    ax1.set_ylabel('amps', color=color)\n",
    "    ax1.scatter(df[TSTAMP][-nrecent:], df['amps1'][-nrecent:], marker='o', color=color, label=f\"{df['amps1'].name}\")\n",
    "    ax1.tick_params(axis='y', labelcolor=color)\n",
    "    ax2 = ax1.twinx()\n",
    "    color = 'tab:blue'\n",
    "    ax2.set_ylabel('C', color=color)\n",
    "    ax1.scatter(df[TSTAMP][-nrecent:], df['celsius1'][-nrecent:], marker='o', color=color, label=f\"{df['celsius1'].name}\")\n",
    "    ax2.tick_params(axis='y', labelcolor=color)\n",
    "    fig.legend()\n",
    "    fig.tight_layout()\n",
    "ipywidgets.interact(plot_ac, nrecent=(1, df[TSTAMP].size))"
   ]
  },
  {
   "cell_type": "code",
   "execution_count": null,
   "id": "0ad32142",
   "metadata": {},
   "outputs": [],
   "source": [
    "# the amps plot\n",
    "def plot_amps(nrecent:int=MAXPTS):\n",
    "    plt.figure(figsize=(9,3))\n",
    "    plt.title('amps')\n",
    "    plt.xlabel('time.time()')\n",
    "    plt.ylabel('A')\n",
    "    plt.plot(df[TSTAMP][-nrecent:], df['amps1'][-nrecent:], 'ro', markersize=1, label=f\"{df['amps1'].name}\")\n",
    "    plt.plot(df[TSTAMP][-nrecent:], df['amps2'][-nrecent:], 'bo', markersize=1, label=f\"{df['amps2'].name}\")\n",
    "    plt.legend(loc='upper right')\n",
    "ipywidgets.interact(plot_amps, nrecent=(1, df[TSTAMP].size))"
   ]
  },
  {
   "cell_type": "code",
   "execution_count": null,
   "id": "9a5f06ac",
   "metadata": {},
   "outputs": [],
   "source": [
    "# the celsius plot\n",
    "def plot_celsius(nrecent:int=MAXPTS):\n",
    "    plt.figure(figsize=(6,3))\n",
    "    plt.title('celsius')\n",
    "    plt.xlabel('time.time()')\n",
    "    plt.ylabel('C')\n",
    "    plt.plot(df[TSTAMP][-nrecent:], df['celsius1'][-nrecent:], 'co', markersize=1, label=f\"{df['celsius1'].name}\")\n",
    "    plt.plot(df[TSTAMP][-nrecent:], df['celsius2'][-nrecent:], 'mo', markersize=1, label=f\"{df['celsius2'].name}\")\n",
    "    plt.plot(df[TSTAMP][-nrecent:], df['celsius3'][-nrecent:], 'go', markersize=1, label=f\"{df['celsius3'].name}\")\n",
    "    plt.legend(loc='upper right')\n",
    "ipywidgets.interact(plot_celsius, nrecent=(1, df[TSTAMP].size))"
   ]
  }
 ],
 "metadata": {
  "kernelspec": {
   "display_name": "Python 3 (ipykernel)",
   "language": "python",
   "name": "python3"
  },
  "language_info": {
   "codemirror_mode": {
    "name": "ipython",
    "version": 3
   },
   "file_extension": ".py",
   "mimetype": "text/x-python",
   "name": "python",
   "nbconvert_exporter": "python",
   "pygments_lexer": "ipython3",
   "version": "3.11.7"
  }
 },
 "nbformat": 4,
 "nbformat_minor": 5
}
