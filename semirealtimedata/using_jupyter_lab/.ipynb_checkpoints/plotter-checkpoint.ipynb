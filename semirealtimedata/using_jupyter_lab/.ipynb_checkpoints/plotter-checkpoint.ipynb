{
 "cells": [
  {
   "cell_type": "code",
   "execution_count": 21,
   "metadata": {},
   "outputs": [],
   "source": [
    "# get the common modules/libraries\n",
    "from IPython.display import display\n",
    "import ipywidgets\n",
    "import matplotlib.pyplot as plt\n",
    "import sys\n",
    "import os\n",
    "import pandas as pd"
   ]
  },
  {
   "cell_type": "code",
   "execution_count": 22,
   "id": "5b645716",
   "metadata": {},
   "outputs": [],
   "source": [
    "# establish graph ranges\n",
    "MAXPTS:int=33"
   ]
  },
  {
   "cell_type": "code",
   "execution_count": 23,
   "id": "03f8ba60",
   "metadata": {},
   "outputs": [],
   "source": [
    "# get the configuration variables\n",
    "sys.path.append(os.path.abspath('../'))\n",
    "from configurations import(\n",
    "    TSTAMP,\n",
    "    FIELDS_ALL,\n",
    "    FIELDS_AMPS,\n",
    "    FIELDS_CELSIUS,\n",
    "    ANCHOR_FILE\n",
    ")"
   ]
  },
  {
   "cell_type": "code",
   "execution_count": 24,
   "id": "aab4126c",
   "metadata": {},
   "outputs": [
    {
     "name": "stdout",
     "output_type": "stream",
     "text": [
      "using data in:\n",
      "\t/Users/davidnakasone/Desktop/semirealtimedata/_data/240325_003427EDT_potatoe.csv\n"
     ]
    }
   ],
   "source": [
    "# see if the data is available\n",
    "datafile=''\n",
    "with open(ANCHOR_FILE, 'r') as fp:\n",
    "    lines=fp.readlines()\n",
    "datafile=lines[0].strip()\n",
    "print(f'using data in:\\n\\t{datafile}')\n"
   ]
  },
  {
   "cell_type": "code",
   "execution_count": 25,
   "id": "1eb20e4b",
   "metadata": {},
   "outputs": [
    {
     "name": "stdout",
     "output_type": "stream",
     "text": [
      "rows   : 108\n",
      "columns: 6\n"
     ]
    },
    {
     "data": {
      "text/plain": [
       "tstamp      float64\n",
       "amps1       float64\n",
       "amps2       float64\n",
       "celsius1    float64\n",
       "celsius2    float64\n",
       "celsius3    float64\n",
       "dtype: object"
      ]
     },
     "metadata": {},
     "output_type": "display_data"
    },
    {
     "data": {
      "text/html": [
       "<div>\n",
       "<style scoped>\n",
       "    .dataframe tbody tr th:only-of-type {\n",
       "        vertical-align: middle;\n",
       "    }\n",
       "\n",
       "    .dataframe tbody tr th {\n",
       "        vertical-align: top;\n",
       "    }\n",
       "\n",
       "    .dataframe thead th {\n",
       "        text-align: right;\n",
       "    }\n",
       "</style>\n",
       "<table border=\"1\" class=\"dataframe\">\n",
       "  <thead>\n",
       "    <tr style=\"text-align: right;\">\n",
       "      <th></th>\n",
       "      <th>tstamp</th>\n",
       "      <th>amps1</th>\n",
       "      <th>amps2</th>\n",
       "      <th>celsius1</th>\n",
       "      <th>celsius2</th>\n",
       "      <th>celsius3</th>\n",
       "    </tr>\n",
       "  </thead>\n",
       "  <tbody>\n",
       "    <tr>\n",
       "      <th>0</th>\n",
       "      <td>1.711341e+09</td>\n",
       "      <td>1.121984</td>\n",
       "      <td>2.178072</td>\n",
       "      <td>21.623848</td>\n",
       "      <td>49.751376</td>\n",
       "      <td>49.473029</td>\n",
       "    </tr>\n",
       "    <tr>\n",
       "      <th>1</th>\n",
       "      <td>1.711341e+09</td>\n",
       "      <td>2.132914</td>\n",
       "      <td>1.778047</td>\n",
       "      <td>32.329866</td>\n",
       "      <td>39.147279</td>\n",
       "      <td>44.058588</td>\n",
       "    </tr>\n",
       "    <tr>\n",
       "      <th>2</th>\n",
       "      <td>1.711341e+09</td>\n",
       "      <td>1.418997</td>\n",
       "      <td>2.041364</td>\n",
       "      <td>23.821796</td>\n",
       "      <td>47.397641</td>\n",
       "      <td>32.196594</td>\n",
       "    </tr>\n",
       "  </tbody>\n",
       "</table>\n",
       "</div>"
      ],
      "text/plain": [
       "         tstamp     amps1     amps2   celsius1   celsius2   celsius3\n",
       "0  1.711341e+09  1.121984  2.178072  21.623848  49.751376  49.473029\n",
       "1  1.711341e+09  2.132914  1.778047  32.329866  39.147279  44.058588\n",
       "2  1.711341e+09  1.418997  2.041364  23.821796  47.397641  32.196594"
      ]
     },
     "metadata": {},
     "output_type": "display_data"
    }
   ],
   "source": [
    "# get the data\n",
    "df=pd.read_csv(datafile)\n",
    "print(f'rows   : {df.shape[0]}')\n",
    "print(f'columns: {df.shape[1]}')\n",
    "display(df.dtypes)\n",
    "display(df.head(3))"
   ]
  },
  {
   "cell_type": "code",
   "execution_count": 26,
   "id": "41071fa2",
   "metadata": {},
   "outputs": [
    {
     "name": "stdout",
     "output_type": "stream",
     "text": [
      "data start time: 1711341267.195\n",
      "data end time  : 1711341374.973\n"
     ]
    }
   ],
   "source": [
    "# establish the first and last time stamp\n",
    "START:float=df[TSTAMP].min()\n",
    "STOP:float=df[TSTAMP].max()\n",
    "print(f'data start time: {START:0.3f}') \n",
    "print(f'data end time  : {STOP:0.3f}')"
   ]
  },
  {
   "cell_type": "code",
   "execution_count": 27,
   "id": "96d8923d",
   "metadata": {},
   "outputs": [
    {
     "name": "stdout",
     "output_type": "stream",
     "text": [
      "will use last 33 samples\n"
     ]
    }
   ],
   "source": [
    "# decide how many points to use\n",
    "if df[TSTAMP].size < MAXPTS:\n",
    "    MAXPTS=df[TSTAMP].size\n",
    "print(f'will use last {MAXPTS} samples')"
   ]
  },
  {
   "cell_type": "code",
   "execution_count": 28,
   "id": "3c2d44c3",
   "metadata": {},
   "outputs": [
    {
     "data": {
      "application/vnd.jupyter.widget-view+json": {
       "model_id": "587bcfed6c4244aab0db98546251c5d7",
       "version_major": 2,
       "version_minor": 0
      },
      "text/plain": [
       "interactive(children=(IntSlider(value=33, description='nrecent', max=108, min=1), Output()), _dom_classes=('wi…"
      ]
     },
     "metadata": {},
     "output_type": "display_data"
    },
    {
     "data": {
      "text/plain": [
       "<function __main__.plot_ac(nrecent: int = 33)>"
      ]
     },
     "execution_count": 28,
     "metadata": {},
     "output_type": "execute_result"
    }
   ],
   "source": [
    "# the amps and celsius plot\n",
    "def plot_ac(nrecent:int=MAXPTS):\n",
    "    fig, ax1 = plt.subplots()\n",
    "    color = 'tab:red'\n",
    "    ax1.set_xlabel('time.time()')\n",
    "    ax1.set_ylabel('amps', color=color)\n",
    "    ax1.scatter(df[TSTAMP][-nrecent:], df['amps1'][-nrecent:], marker='o', color=color, label=f\"{df['amps1'].name}\")\n",
    "    ax1.tick_params(axis='y', labelcolor=color)\n",
    "    ax2 = ax1.twinx()\n",
    "    color = 'tab:blue'\n",
    "    ax2.set_ylabel('C', color=color)\n",
    "    ax1.scatter(df[TSTAMP][-nrecent:], df['celsius1'][-nrecent:], marker='o', color=color, label=f\"{df['celsius1'].name}\")\n",
    "    ax2.tick_params(axis='y', labelcolor=color)\n",
    "    fig.legend()\n",
    "    fig.tight_layout()\n",
    "ipywidgets.interact(plot_ac, nrecent=(1, df[TSTAMP].size))"
   ]
  },
  {
   "cell_type": "code",
   "execution_count": 29,
   "id": "0ad32142",
   "metadata": {},
   "outputs": [
    {
     "data": {
      "application/vnd.jupyter.widget-view+json": {
       "model_id": "b62b86b234bb4af8a22097357b70d26c",
       "version_major": 2,
       "version_minor": 0
      },
      "text/plain": [
       "interactive(children=(IntSlider(value=33, description='nrecent', max=108, min=1), Output()), _dom_classes=('wi…"
      ]
     },
     "metadata": {},
     "output_type": "display_data"
    },
    {
     "data": {
      "text/plain": [
       "<function __main__.plot_amps(nrecent: int = 33)>"
      ]
     },
     "execution_count": 29,
     "metadata": {},
     "output_type": "execute_result"
    }
   ],
   "source": [
    "# the amps plot\n",
    "def plot_amps(nrecent:int=MAXPTS):\n",
    "    plt.figure(figsize=(9,3))\n",
    "    plt.title('amps')\n",
    "    plt.xlabel('time.time()')\n",
    "    plt.ylabel('A')\n",
    "    plt.plot(df[TSTAMP][-nrecent:], df['amps1'][-nrecent:], 'ro', markersize=1, label=f\"{df['amps1'].name}\")\n",
    "    plt.plot(df[TSTAMP][-nrecent:], df['amps2'][-nrecent:], 'bo', markersize=1, label=f\"{df['amps2'].name}\")\n",
    "    plt.legend(loc='upper right')\n",
    "ipywidgets.interact(plot_amps, nrecent=(1, df[TSTAMP].size))"
   ]
  },
  {
   "cell_type": "code",
   "execution_count": 30,
   "id": "9a5f06ac",
   "metadata": {},
   "outputs": [
    {
     "data": {
      "application/vnd.jupyter.widget-view+json": {
       "model_id": "ed6c6b086ff645b0a6aabb0fae80c071",
       "version_major": 2,
       "version_minor": 0
      },
      "text/plain": [
       "interactive(children=(IntSlider(value=33, description='nrecent', max=108, min=1), Output()), _dom_classes=('wi…"
      ]
     },
     "metadata": {},
     "output_type": "display_data"
    },
    {
     "data": {
      "text/plain": [
       "<function __main__.plot_celsius(nrecent: int = 33)>"
      ]
     },
     "execution_count": 30,
     "metadata": {},
     "output_type": "execute_result"
    }
   ],
   "source": [
    "# the celsius plot\n",
    "def plot_celsius(nrecent:int=MAXPTS):\n",
    "    plt.figure(figsize=(6,3))\n",
    "    plt.title('celsius')\n",
    "    plt.xlabel('time.time()')\n",
    "    plt.ylabel('C')\n",
    "    plt.plot(df[TSTAMP][-nrecent:], df['celsius1'][-nrecent:], 'co', markersize=1, label=f\"{df['celsius1'].name}\")\n",
    "    plt.plot(df[TSTAMP][-nrecent:], df['celsius2'][-nrecent:], 'mo', markersize=1, label=f\"{df['celsius2'].name}\")\n",
    "    plt.plot(df[TSTAMP][-nrecent:], df['celsius3'][-nrecent:], 'go', markersize=1, label=f\"{df['celsius3'].name}\")\n",
    "    plt.legend(loc='upper right')\n",
    "ipywidgets.interact(plot_celsius, nrecent=(1, df[TSTAMP].size))"
   ]
  }
 ],
 "metadata": {
  "kernelspec": {
   "display_name": "dkn",
   "language": "python",
   "name": "python3"
  },
  "language_info": {
   "codemirror_mode": {
    "name": "ipython",
    "version": 3
   },
   "file_extension": ".py",
   "mimetype": "text/x-python",
   "name": "python",
   "nbconvert_exporter": "python",
   "pygments_lexer": "ipython3",
   "version": "3.11.7"
  }
 },
 "nbformat": 4,
 "nbformat_minor": 5
}
