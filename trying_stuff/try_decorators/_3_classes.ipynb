{
 "cells": [
  {
   "cell_type": "code",
   "execution_count": 1,
   "metadata": {},
   "outputs": [],
   "source": [
    "from dataclasses import dataclass\n",
    "\n",
    "import time\n",
    "import functools\n",
    "import math\n",
    "import random\n",
    "\n",
    "from mydz import my_timer\n",
    "from mydz import my_debug\n",
    "from mydz import my_twice\n",
    "from mydz import my_repeat"
   ]
  },
  {
   "cell_type": "code",
   "execution_count": 2,
   "metadata": {},
   "outputs": [
    {
     "name": "stdout",
     "output_type": "stream",
     "text": [
      "__init__(<__main__.TimeWaster_1 object at 0x1096b7490>, 9999)\n",
      "-->  None\n",
      "\n",
      "waste_time()  time:0.0814 seconds\n"
     ]
    }
   ],
   "source": [
    "class TimeWaster_1:\n",
    "    \n",
    "    @my_debug\n",
    "    def __init__(self, max_n):\n",
    "        self.max_num = max_n\n",
    "    \n",
    "    @my_timer\n",
    "    def waste_time(self, numt):\n",
    "        for _ in range(numt) :\n",
    "            sum([i**2 for i in range(self.max_num)])\n",
    "    \n",
    "tw = TimeWaster_1(9999)\n",
    "tw.waste_time(99)"
   ]
  },
  {
   "cell_type": "code",
   "execution_count": 3,
   "metadata": {},
   "outputs": [
    {
     "name": "stdout",
     "output_type": "stream",
     "text": [
      "[<class '__main__.Cardz'>, <class 'object'>]\n"
     ]
    }
   ],
   "source": [
    "@dataclass\n",
    "class Cardz:\n",
    "    rank:str\n",
    "    suit:str\n",
    "# == Cardz = dataclass(Cardz)\n",
    "c = Cardz\n",
    "c.rank = '10'\n",
    "c.rank = 'spades'\n",
    "print(c.mro())"
   ]
  },
  {
   "cell_type": "code",
   "execution_count": 4,
   "metadata": {},
   "outputs": [
    {
     "name": "stdout",
     "output_type": "stream",
     "text": [
      "TimeWaster_2()  time:0.0000 seconds\n"
     ]
    }
   ],
   "source": [
    "# decorate the entire class (instead of function, place on class)\n",
    "# only does time for initializing, not useful yet, try @singleton or something else\n",
    "@my_timer\n",
    "class TimeWaster_2:\n",
    "    def __init__(self, max_n):\n",
    "        self.max_num = max_n\n",
    "    \n",
    "    def waste_time(self, numt):\n",
    "        for _ in range(numt) :\n",
    "            sum([i**2 for i in range(self.max_num)])\n",
    "    \n",
    "tw = TimeWaster_2(9999)\n",
    "tw.waste_time(99)"
   ]
  },
  {
   "cell_type": "code",
   "execution_count": 5,
   "metadata": {},
   "outputs": [
    {
     "name": "stdout",
     "output_type": "stream",
     "text": [
      "wrap_2('Ralph')\n",
      "Ralph is a bad person\n",
      "Ralph is a bad person\n",
      "-->  None\n",
      "\n"
     ]
    }
   ],
   "source": [
    "# nested decorator (watch order)\n",
    "@my_debug\n",
    "@my_twice\n",
    "def slander(name):\n",
    "    print(f\"{name} is a bad person\")\n",
    "slander(\"Ralph\")"
   ]
  },
  {
   "cell_type": "code",
   "execution_count": 6,
   "metadata": {},
   "outputs": [
    {
     "name": "stdout",
     "output_type": "stream",
     "text": [
      "imbelish('Ralph')\n",
      "Ralph is a good person\n",
      "-->  None\n",
      "\n",
      "imbelish('Ralph')\n",
      "Ralph is a good person\n",
      "-->  None\n",
      "\n"
     ]
    }
   ],
   "source": [
    "@my_twice\n",
    "@my_debug\n",
    "def imbelish(name):\n",
    "    print(f\"{name} is a good person\")\n",
    "imbelish(\"Ralph\")"
   ]
  },
  {
   "cell_type": "code",
   "execution_count": 7,
   "metadata": {},
   "outputs": [
    {
     "name": "stdout",
     "output_type": "stream",
     "text": [
      "the earth is flat\n",
      "the earth is flat\n",
      "the earth is flat\n",
      "the earth is flat\n",
      "the earth is flat\n"
     ]
    }
   ],
   "source": [
    "# decorator takes arguments, has an additional inner layer, same pattern\n",
    "@my_repeat(repz=5) # not a call, but a closure for containing decorator args\n",
    "def blaspeme(phrase):\n",
    "    print(phrase)\n",
    "blaspeme(\"the earth is flat\")"
   ]
  },
  {
   "cell_type": "code",
   "execution_count": 8,
   "metadata": {},
   "outputs": [
    {
     "name": "stdout",
     "output_type": "stream",
     "text": [
      "an object in motion will get tired and stop\n",
      "an object in motion will get tired and stop\n"
     ]
    }
   ],
   "source": [
    "# decorator takes arguments, has an additional inner layer, same pattern\n",
    "@my_repeat # this decorator was setup to take 0 or 1 argument, default 2x\n",
    "def blaspemee(phrase):\n",
    "    print(phrase)\n",
    "blaspemee(\"an object in motion will get tired and stop\")"
   ]
  }
 ],
 "metadata": {
  "kernelspec": {
   "display_name": "Python 3",
   "language": "python",
   "name": "python3"
  },
  "language_info": {
   "codemirror_mode": {
    "name": "ipython",
    "version": 3
   },
   "file_extension": ".py",
   "mimetype": "text/x-python",
   "name": "python",
   "nbconvert_exporter": "python",
   "pygments_lexer": "ipython3",
   "version": "3.11.0"
  },
  "orig_nbformat": 4,
  "vscode": {
   "interpreter": {
    "hash": "aee8b7b246df8f9039afb4144a1f6fd8d2ca17a180786b69acc140d282b71a49"
   }
  }
 },
 "nbformat": 4,
 "nbformat_minor": 2
}
