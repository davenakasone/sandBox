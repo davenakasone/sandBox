{
 "cells": [
  {
   "cell_type": "code",
   "execution_count": 1,
   "metadata": {},
   "outputs": [],
   "source": [
    "from mydz import my_ccount\n",
    "from mydz import Ccounter\n",
    "from mydz import CcounterC\n",
    "from mydz import my_slow\n",
    "from mydz import my_single\n",
    "from mydz import my_fcache\n",
    "\n",
    "import time\n",
    "import functools"
   ]
  },
  {
   "cell_type": "code",
   "execution_count": 2,
   "metadata": {},
   "outputs": [
    {
     "name": "stdout",
     "output_type": "stream",
     "text": [
      "heretic()  ,  calls:  1\n",
      "the earth revolves around the sun\n",
      "heretic()  ,  calls:  2\n",
      "the earth revolves around the sun\n",
      "heretic()  ,  calls:  3\n",
      "the earth revolves around the sun\n",
      "heretic()  ,  calls:  4\n",
      "the earth revolves around the sun\n",
      "heretic()  ,  calls:  5\n",
      "the earth revolves around the sun\n",
      "heretic()  ,  calls:  6\n",
      "the earth revolves around the sun\n"
     ]
    }
   ],
   "source": [
    "@my_ccount\n",
    "def heretic(msg):\n",
    "    print(msg)\n",
    "for i in range(6):\n",
    "    heretic(\"the earth revolves around the sun\")"
   ]
  },
  {
   "cell_type": "code",
   "execution_count": 3,
   "metadata": {},
   "outputs": [
    {
     "name": "stdout",
     "output_type": "stream",
     "text": [
      "calls: 1\n",
      "calls: 2\n",
      "calls: 3\n"
     ]
    }
   ],
   "source": [
    "cnt = Ccounter()\n",
    "cnt()\n",
    "cnt()\n",
    "cnt()"
   ]
  },
  {
   "cell_type": "code",
   "execution_count": 4,
   "metadata": {},
   "outputs": [
    {
     "name": "stdout",
     "output_type": "stream",
     "text": [
      "calls: 1\n",
      "filler\n",
      "calls: 2\n",
      "filler\n",
      "calls: 3\n",
      "filler\n"
     ]
    }
   ],
   "source": [
    "@CcounterC\n",
    "def filler():\n",
    "    print(\"filler\")\n",
    "filler()\n",
    "filler()\n",
    "filler()"
   ]
  },
  {
   "cell_type": "code",
   "execution_count": 5,
   "metadata": {},
   "outputs": [
    {
     "name": "stdout",
     "output_type": "stream",
     "text": [
      "3\n",
      "2\n",
      "1\n",
      "done\n"
     ]
    }
   ],
   "source": [
    "@my_slow(rate=2) # any delay as argument\n",
    "def cntd(from_n:int=1):\n",
    "    if from_n < 1 :\n",
    "        print(\"done\")\n",
    "    else :\n",
    "        print(from_n)\n",
    "        cntd(from_n-1)\n",
    "cntd(3)"
   ]
  },
  {
   "cell_type": "code",
   "execution_count": 6,
   "metadata": {},
   "outputs": [
    {
     "name": "stdout",
     "output_type": "stream",
     "text": [
      "4503809232\n",
      "4503809232\n",
      "d1 is d2 ?  True\n"
     ]
    }
   ],
   "source": [
    "# singletons are better used a global vars, but you can still do it with a decorator\n",
    "@my_single\n",
    "class Dum:\n",
    "    pass\n",
    "d1 = Dum()\n",
    "d2 = Dum()\n",
    "print(f\"{id(d1)}\\n{id(d2)}\\nd1 is d2 ?  {d1 is d2}\") # must be same instance to be true\n",
    "# class keeps passing back first instance...making it a singleton"
   ]
  },
  {
   "cell_type": "code",
   "execution_count": 7,
   "metadata": {},
   "outputs": [
    {
     "name": "stdout",
     "output_type": "stream",
     "text": [
      "35 -> 9227465 , 1.982909040991217 seconds\n"
     ]
    }
   ],
   "source": [
    "# fibonacci without cache\n",
    "def fib(num):\n",
    "    if num < 2 :\n",
    "        return num\n",
    "    return fib(num-1) + fib(num-2)\n",
    "s=time.perf_counter()\n",
    "fs = 35\n",
    "fn = fib(fs)\n",
    "print(f\"{fs} -> {fn} , {time.perf_counter()-s} seconds\")"
   ]
  },
  {
   "cell_type": "code",
   "execution_count": 8,
   "metadata": {},
   "outputs": [
    {
     "name": "stdout",
     "output_type": "stream",
     "text": [
      "35 -> 9227465 , 0.00012570999388117343 seconds\n"
     ]
    }
   ],
   "source": [
    "# fibonacci with cache (or just use a lookup table)\n",
    "@my_fcache\n",
    "def fibb(num):\n",
    "    if num < 2:\n",
    "        return num\n",
    "    return fibb(num-1)+fibb(num-2)\n",
    "s=time.perf_counter()\n",
    "fs = 35\n",
    "fn = fibb(fs)\n",
    "print(f\"{fs} -> {fn} , {time.perf_counter()-s} seconds\")"
   ]
  },
  {
   "cell_type": "code",
   "execution_count": 15,
   "metadata": {},
   "outputs": [
    {
     "name": "stdout",
     "output_type": "stream",
     "text": [
      "35, 34, 33, 32, 31, 30, 29, 28, 27, 26, 25, 24, 23, 22, 21, 20, 19, 18, 17, 16, 15, 14, 13, 12, 11, 10, 9, 8, 7, 6, 5, 4, 3, 2, 1, 0, \n",
      "35 -> 9227465 , 0.0004306110058678314 seconds, CacheInfo(hits=33, misses=36, maxsize=128, currsize=36)\n"
     ]
    }
   ],
   "source": [
    "# build in cache\n",
    "@functools.lru_cache(maxsize=128)\n",
    "def fibbb(num):\n",
    "    print(f\"{num}, \", end='')\n",
    "    if num < 2 :\n",
    "        return num\n",
    "    return fibbb(num-1)+fibbb(num-2)\n",
    "s=time.perf_counter()\n",
    "fs = 35\n",
    "fn = fibbb(fs)\n",
    "print(f\"\\n{fs} -> {fn} , {time.perf_counter()-s} seconds, {fibbb.cache_info()}\")"
   ]
  },
  {
   "cell_type": "code",
   "execution_count": 16,
   "metadata": {},
   "outputs": [
    {
     "name": "stdout",
     "output_type": "stream",
     "text": [
      "\n",
      "10 -> 55 , 0.00011230898962821811 seconds, CacheInfo(hits=34, misses=36, maxsize=128, currsize=36)\n"
     ]
    }
   ],
   "source": [
    "s=time.perf_counter()\n",
    "fs = 10\n",
    "fn = fibbb(fs)\n",
    "print(f\"\\n{fs} -> {fn} , {time.perf_counter()-s} seconds, {fibbb.cache_info()}\")"
   ]
  },
  {
   "cell_type": "code",
   "execution_count": 21,
   "metadata": {},
   "outputs": [
    {
     "data": {
      "text/plain": [
       "11.100000000000001"
      ]
     },
     "execution_count": 21,
     "metadata": {},
     "output_type": "execute_result"
    }
   ],
   "source": [
    "h = None\n",
    "h = 1.8\n",
    "g = 9.3\n",
    "h + g"
   ]
  }
 ],
 "metadata": {
  "kernelspec": {
   "display_name": "Python 3",
   "language": "python",
   "name": "python3"
  },
  "language_info": {
   "codemirror_mode": {
    "name": "ipython",
    "version": 3
   },
   "file_extension": ".py",
   "mimetype": "text/x-python",
   "name": "python",
   "nbconvert_exporter": "python",
   "pygments_lexer": "ipython3",
   "version": "3.11.0"
  },
  "orig_nbformat": 4,
  "vscode": {
   "interpreter": {
    "hash": "aee8b7b246df8f9039afb4144a1f6fd8d2ca17a180786b69acc140d282b71a49"
   }
  }
 },
 "nbformat": 4,
 "nbformat_minor": 2
}
