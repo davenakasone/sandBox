{
 "cells": [
  {
   "cell_type": "code",
   "execution_count": 1,
   "id": "87ddf360",
   "metadata": {
    "editable": true,
    "execution": {
     "iopub.execute_input": "2024-01-21T14:52:38.509660Z",
     "iopub.status.busy": "2024-01-21T14:52:38.509339Z",
     "iopub.status.idle": "2024-01-21T14:52:38.516221Z",
     "shell.execute_reply": "2024-01-21T14:52:38.515895Z"
    },
    "papermill": {
     "duration": 0.012186,
     "end_time": "2024-01-21T14:52:38.517472",
     "exception": false,
     "start_time": "2024-01-21T14:52:38.505286",
     "status": "completed"
    },
    "slideshow": {
     "slide_type": ""
    },
    "tags": [
     "parameters"
    ]
   },
   "outputs": [],
   "source": [
    "a : str = 'python is bad'\n",
    "x : int = 0"
   ]
  },
  {
   "cell_type": "code",
   "execution_count": 2,
   "id": "f9116d92",
   "metadata": {
    "execution": {
     "iopub.execute_input": "2024-01-21T14:52:38.519352Z",
     "iopub.status.busy": "2024-01-21T14:52:38.519242Z",
     "iopub.status.idle": "2024-01-21T14:52:38.521287Z",
     "shell.execute_reply": "2024-01-21T14:52:38.520693Z"
    },
    "papermill": {
     "duration": 0.00462,
     "end_time": "2024-01-21T14:52:38.522865",
     "exception": false,
     "start_time": "2024-01-21T14:52:38.518245",
     "status": "completed"
    },
    "tags": [
     "injected-parameters"
    ]
   },
   "outputs": [],
   "source": [
    "# Parameters\n",
    "a = \"c++ is bad\"\n",
    "x = 3\n"
   ]
  },
  {
   "cell_type": "code",
   "execution_count": 3,
   "id": "9639ed7e",
   "metadata": {
    "execution": {
     "iopub.execute_input": "2024-01-21T14:52:38.524942Z",
     "iopub.status.busy": "2024-01-21T14:52:38.524586Z",
     "iopub.status.idle": "2024-01-21T14:52:38.527370Z",
     "shell.execute_reply": "2024-01-21T14:52:38.526792Z"
    },
    "papermill": {
     "duration": 0.004755,
     "end_time": "2024-01-21T14:52:38.528344",
     "exception": false,
     "start_time": "2024-01-21T14:52:38.523589",
     "status": "completed"
    },
    "tags": []
   },
   "outputs": [
    {
     "name": "stdout",
     "output_type": "stream",
     "text": [
      "c++ is bad\n",
      "4\n"
     ]
    }
   ],
   "source": [
    "print(a)\n",
    "print(x+1)"
   ]
  }
 ],
 "metadata": {
  "kernelspec": {
   "display_name": "Python 3 (ipykernel)",
   "language": "python",
   "name": "python3"
  },
  "language_info": {
   "codemirror_mode": {
    "name": "ipython",
    "version": 3
   },
   "file_extension": ".py",
   "mimetype": "text/x-python",
   "name": "python",
   "nbconvert_exporter": "python",
   "pygments_lexer": "ipython3",
   "version": "3.11.7"
  },
  "papermill": {
   "default_parameters": {},
   "duration": 0.710634,
   "end_time": "2024-01-21T14:52:38.645450",
   "environment_variables": {},
   "exception": null,
   "input_path": "/Users/davidnakasone/Desktop/sandBox/template_with_param.ipynb",
   "output_path": "/Users/davidnakasone/Desktop/sandBox/ouput_with_param.ipynb",
   "parameters": {
    "a": "c++ is bad",
    "x": 3
   },
   "start_time": "2024-01-21T14:52:37.934816",
   "version": "2.5.0"
  }
 },
 "nbformat": 4,
 "nbformat_minor": 5
}