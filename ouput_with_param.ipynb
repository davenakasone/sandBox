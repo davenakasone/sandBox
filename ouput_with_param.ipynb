{
 "cells": [
  {
   "cell_type": "code",
   "execution_count": 1,
   "id": "45a9774d",
   "metadata": {
    "editable": true,
    "execution": {
     "iopub.execute_input": "2024-01-16T05:11:05.823578Z",
     "iopub.status.busy": "2024-01-16T05:11:05.823342Z",
     "iopub.status.idle": "2024-01-16T05:11:05.829179Z",
     "shell.execute_reply": "2024-01-16T05:11:05.828853Z"
    },
    "papermill": {
     "duration": 0.012039,
     "end_time": "2024-01-16T05:11:05.830224",
     "exception": false,
     "start_time": "2024-01-16T05:11:05.818185",
     "status": "completed"
    },
    "slideshow": {
     "slide_type": ""
    },
    "tags": [
     "parameters"
    ]
   },
   "outputs": [],
   "source": [
    "a : str = 'python is bad'\n",
    "x : int = 0"
   ]
  },
  {
   "cell_type": "code",
   "execution_count": 2,
   "id": "aefc54c1",
   "metadata": {
    "execution": {
     "iopub.execute_input": "2024-01-16T05:11:05.832665Z",
     "iopub.status.busy": "2024-01-16T05:11:05.832521Z",
     "iopub.status.idle": "2024-01-16T05:11:05.834468Z",
     "shell.execute_reply": "2024-01-16T05:11:05.833990Z"
    },
    "papermill": {
     "duration": 0.004164,
     "end_time": "2024-01-16T05:11:05.835449",
     "exception": false,
     "start_time": "2024-01-16T05:11:05.831285",
     "status": "completed"
    },
    "tags": [
     "injected-parameters"
    ]
   },
   "outputs": [],
   "source": [
    "# Parameters\n",
    "a = \"c++ is bad\"\n",
    "x = 3\n"
   ]
  },
  {
   "cell_type": "code",
   "execution_count": 3,
   "id": "74a44544",
   "metadata": {
    "execution": {
     "iopub.execute_input": "2024-01-16T05:11:05.837432Z",
     "iopub.status.busy": "2024-01-16T05:11:05.837315Z",
     "iopub.status.idle": "2024-01-16T05:11:05.839401Z",
     "shell.execute_reply": "2024-01-16T05:11:05.839069Z"
    },
    "papermill": {
     "duration": 0.004125,
     "end_time": "2024-01-16T05:11:05.840328",
     "exception": false,
     "start_time": "2024-01-16T05:11:05.836203",
     "status": "completed"
    },
    "tags": []
   },
   "outputs": [
    {
     "name": "stdout",
     "output_type": "stream",
     "text": [
      "c++ is bad\n",
      "4\n"
     ]
    }
   ],
   "source": [
    "print(a)\n",
    "print(x+1)"
   ]
  }
 ],
 "metadata": {
  "kernelspec": {
   "display_name": "Python 3 (ipykernel)",
   "language": "python",
   "name": "python3"
  },
  "language_info": {
   "codemirror_mode": {
    "name": "ipython",
    "version": 3
   },
   "file_extension": ".py",
   "mimetype": "text/x-python",
   "name": "python",
   "nbconvert_exporter": "python",
   "pygments_lexer": "ipython3",
   "version": "3.11.7"
  },
  "papermill": {
   "default_parameters": {},
   "duration": 0.709803,
   "end_time": "2024-01-16T05:11:05.956501",
   "environment_variables": {},
   "exception": null,
   "input_path": "/Users/davidnakasone/Desktop/sandBox/template_with_param.ipynb",
   "output_path": "/Users/davidnakasone/Desktop/sandBox/ouput_with_param.ipynb",
   "parameters": {
    "a": "c++ is bad",
    "x": 3
   },
   "start_time": "2024-01-16T05:11:05.246698",
   "version": "2.5.0"
  }
 },
 "nbformat": 4,
 "nbformat_minor": 5
}