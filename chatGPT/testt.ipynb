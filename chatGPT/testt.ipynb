{
 "cells": [
  {
   "cell_type": "code",
   "execution_count": 1,
   "metadata": {},
   "outputs": [],
   "source": [
    "from pyChatGPT import ChatGPT\n",
    "from pprint import pprint"
   ]
  },
  {
   "cell_type": "code",
   "execution_count": 3,
   "metadata": {},
   "outputs": [],
   "source": [
    "# need a session token: https://chat.openai.com/chat\n",
    "#   might not be free in the future\n",
    "#   need an internet connection\n",
    "#   [rclick]:[inspect], go to [Application][Cookies]\n",
    "#   copy the value in \"__Secure-next-auth.callback-url\"\n",
    "session_token = \"eyJhbGciOiJkaXIiLCJlbmMiOiJBMjU2R0NNIn0..yvYQxkNnkLPu7Sx6.Ce_mQyjAzngHKQj4Rbskv2j5H7wfoxzEUvdL2NeZLBT6FC-9bL5pz_rtCY7-b7XifnnUDEfnNB34p2Zh9fQrIpyJVUhHFjYjfXJvuJ8FfZsrf_7pI_8xh6SH3zt247Sg4KfWudOMYsCZyoq_BYPyDveeRzcIPiq22aYLk0_2JmL6ZQ9cjzpfjsDl37jBqi3sq-BLViKWsVynaJl0hXkbFdAhkhttQiYg2TsqAZoJVwHbtOV9kiLqpn42-J692xwapyhx7BPHDyX_nOyYIYDWDfV1uEop_GYZCXOY7dBm7lHMfBXYL2nePN3DXmJDCQloSavTdY-tmMmLZHTIcm34CPU1iGLv7J575JSJizT5UAEGC7I0QY7Bem6bHfgKjnWTIVzhUmd1wcrr2gchzA4T6TehI4K3zIE6e0_r0TrkwkqSjtpL932OTREpuTZRvrxF9JVoJz83bDLFHC7JRpaSEuJCP3Ux6ZqKaeC8ta3Mkgj1v_8QMXugS08VoyIA-EckQbD7UW53uHKHxPu4uKVUz3IXAMGe_JnVS2Q2cLZaEsg_BJ1B_DUdbk5YGiqZTWZ146ENNRhs4RbE9Q9z0jqJWCPHLmyEtQbgnUyQSBuEIxkcmbdu3711BbaJxvM1kqs07-ebAki_bZqDcr_TYofkIxOqkD7BW7bsjG643DkLOH1I5mdYdHH7W7K7R4q8bTeJInyrXpS_v6xcMhxSsF4GAh8m_xP0Ycmn4Oz9_qjDqgkmjio-fLNHfNUZo2SPq4pqfSmsGYN_Wo48DVE6Bp0HBiY9adHJdw-c4S67NIAdDTSGhu7qhyhtSYFbpqTofEJzBjk-SRYdGOSvcdZSM9KEooqsv9DDzpsaBHgEFtUIj73wOhiEPWOAIilveAjfx-KOcmOAyCBIG9wLgt7i5b9g5tEMUuRcYdh2st0bn1KDct7DLGVtSaENHqAstcL5LX6hjNgi6ySYnPscE9VlvUNHWGg4QMEEzQjEo7RNX8sIvr8MqscZEqLHRPLfu8OiUw-bVYbF7PCfo2hH5OfqEjcFQJadBoFboPYS7XEl1AqbgmDHWw3dJCkrfFiZCNQHOzaJ1I-ppPHjDk2EH5m-IOrtUNVygnaYaC4rw2ntwE6xy4UZwCOLVsr3FIxZx--NaLuNJhvpCXC-CFfZOYzbN2rC2L-dtHF1etCYK3xhW9IE-o6biqYrd276kufdclFKQOVQ-8rsIoy_QHY-kYRH7vh6csEPACi96YoJWDLgOqg91wDmRZJuQOfv3y2lJbut2JCqtMT3HjcS8I7d9yxO237uILmL5-ET0i80d_Gfqm-go5Ipjo9ZBlRJFqF1mYAYVN16GnkixD0PeYF0Dw2TLgD0vO-qrsbtTHshbwFNKw_FCCtTMWC7xRnosI1RNeqKcIDMkkMup6Q_WWL33eRcrA26j2VQEliZxmbhaBFZP9Pblne7QK5O9d72GW6ylxccWbMK_EsDC5wJH-vZfxMuu7uDTXAw2rgps5Ed_McRJPVM8rb2pswhx0YqJpuv9ke-zRPZUHTmWEdsKLTohm25SI0ZNSMotNc_Pces8MvlcibVwGlU2YoL-1xtJEzKELawYMk0JowaLfnbsribnqwxvY4DOFAMREL0ZCf41CgvpqTSam5bf1MhmXKIJQ3go3zOWWUWg8Tg0VyNizxY7YFZ8Z9QaWT-d_XzS_kggQQO8as2YU42y1DySDhrchT5CXm0rkNfl64uMEFYglXpwpHCUucLZHdmV9CuJMaK3WUX1sT2eY7wQhRg_cv2zEa5jH7J6iI2nQxrTNIfGzYyH1RitiMS1dYxjVM4BKxu1h-yxQVXrWO1lQL3kRWBNwRvcK6NJg4HwEWJ8ulY_Gx6E1kkjT4rN5MCHrdTZjiw4pr85Gg5v_qnqdYDOpaT4T2yS2dlTQVyWnP7_mP6SemqaYbPmTO1vtOywHNIYyUbatUC72LTlNbNtNmIJt5lmf8RQz16nssHwBNaxcR_30hLG-4Hzuf-ZVtuZUZM-HxzNusTiLxX1Wz0_ALakKyflghVkGv0KftCK2Ce0hq7yKkAZiDSaTfmxZMIrPfXxDm_MhBhkL3V6vmHzZxHrB61-D8Ub68g-xZMAzspJlnkF1PwB00mbowYZigi5AcXIYxksJF_aVperH3PGbfXR_gF2XWTTts-JEkS9uX41KOOi_4WP1Uz9Lxur_9zpGEqW-o6K1yEUFnqyJ-musyHpsf-4U4ZtexuuPOpCefPoEUPYiil3MTcdaSYxftVeRasjrcfUth8IqiVuTrA.QekJruRSS4CkoPDJDJnEHg\"\n",
    "api = ChatGPT(session_token)"
   ]
  },
  {
   "cell_type": "code",
   "execution_count": 5,
   "metadata": {},
   "outputs": [],
   "source": [
    "question = \"Is C better than C++?\"\n",
    "answer = api.send_message(question)\n",
    "pprint(answer['message'])"
   ]
  }
 ],
 "metadata": {
  "kernelspec": {
   "display_name": "Python 3",
   "language": "python",
   "name": "python3"
  },
  "language_info": {
   "codemirror_mode": {
    "name": "ipython",
    "version": 3
   },
   "file_extension": ".py",
   "mimetype": "text/x-python",
   "name": "python",
   "nbconvert_exporter": "python",
   "pygments_lexer": "ipython3",
   "version": "3.11.0"
  },
  "orig_nbformat": 4,
  "vscode": {
   "interpreter": {
    "hash": "aee8b7b246df8f9039afb4144a1f6fd8d2ca17a180786b69acc140d282b71a49"
   }
  }
 },
 "nbformat": 4,
 "nbformat_minor": 2
}
