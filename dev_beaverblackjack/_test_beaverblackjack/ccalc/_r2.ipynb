{
 "cells": [
  {
   "cell_type": "code",
   "execution_count": 1,
   "metadata": {},
   "outputs": [],
   "source": [
    "import os\n",
    "import sys\n",
    "from typing import Dict\n",
    "\n",
    "sys.path.append(os.path.abspath('../../'))\n",
    "import beaverblackjack as bbj"
   ]
  },
  {
   "cell_type": "code",
   "execution_count": 2,
   "metadata": {},
   "outputs": [],
   "source": [
    "testv : Dict[float, float] = {\n",
    "    0.0 : 0.0,\n",
    "    -11.11 : 11.11,\n",
    "    5.0 : 5.0,\n",
    "    100.0 : 100.0\n",
    "}"
   ]
  },
  {
   "cell_type": "code",
   "execution_count": 3,
   "metadata": {},
   "outputs": [
    {
     "name": "stdout",
     "output_type": "stream",
     "text": [
      "equivelent resistance is a short\n",
      "!!! beaverblackjack.circuit_calculations.para_.r2()\n",
      "r_a is negative: -1.111000e+01\n",
      "exception caught: -1.111000e+01 || 1.111000e+01\n",
      "5.000000e+00 || 5.000000e+00 = 2.500000e+00 ohms\n",
      "1.000000e+02 || 1.000000e+02 = 5.000000e+01 ohms\n"
     ]
    }
   ],
   "source": [
    "for k, v in testv.items() :\n",
    "    try :\n",
    "        x = bbj.ccalc.para.r2(k,v,debug=True)\n",
    "    except :\n",
    "        print(f'exception caught: {k:e} || {v:e}')"
   ]
  },
  {
   "cell_type": "code",
   "execution_count": 4,
   "metadata": {},
   "outputs": [
    {
     "name": "stdout",
     "output_type": "stream",
     "text": [
      "done\n"
     ]
    }
   ],
   "source": [
    "try :\n",
    "    sys.exit(0)\n",
    "except :\n",
    "    print(f'done')"
   ]
  }
 ],
 "metadata": {
  "kernelspec": {
   "display_name": "Python 3",
   "language": "python",
   "name": "python3"
  },
  "language_info": {
   "codemirror_mode": {
    "name": "ipython",
    "version": 3
   },
   "file_extension": ".py",
   "mimetype": "text/x-python",
   "name": "python",
   "nbconvert_exporter": "python",
   "pygments_lexer": "ipython3",
   "version": "3.11.6"
  }
 },
 "nbformat": 4,
 "nbformat_minor": 2
}
