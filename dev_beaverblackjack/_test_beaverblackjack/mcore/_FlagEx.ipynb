{
 "cells": [
  {
   "cell_type": "code",
   "execution_count": 1,
   "metadata": {},
   "outputs": [],
   "source": [
    "import os\n",
    "import sys\n",
    "\n",
    "sys.path.append(os.path.abspath('../../'))\n",
    "import monotheist as mt"
   ]
  },
  {
   "cell_type": "code",
   "execution_count": 2,
   "metadata": {},
   "outputs": [
    {
     "name": "stdout",
     "output_type": "stream",
     "text": [
      "!!! __main__()\n",
      "division failed, 3/0\n",
      "<class 'ZeroDivisionError'>, division by zero\n",
      "exception caught...\n"
     ]
    }
   ],
   "source": [
    "x : int = 3\n",
    "y : int = 0\n",
    "try :\n",
    "    z : int = x / y\n",
    "except Exception as e :\n",
    "    try :\n",
    "        raise mt.mcore.FlagEx(\n",
    "            fun=__name__,\n",
    "            msg=f'division failed, {x}/{y}',\n",
    "            ethrown=e\n",
    "        )\n",
    "    except :\n",
    "        print('exception caught...')"
   ]
  },
  {
   "cell_type": "code",
   "execution_count": 3,
   "metadata": {},
   "outputs": [
    {
     "name": "stdout",
     "output_type": "stream",
     "text": [
      "!!! __main__()\n",
      "bad input file: ../bad/input.txt\n",
      "exception caught...\n"
     ]
    }
   ],
   "source": [
    "inffile : str = '../bad/input.txt'\n",
    "if os.path.exists(inffile) is False :\n",
    "    try :\n",
    "        raise mt.mcore.FlagEx(\n",
    "            fun=__name__,\n",
    "            msg=f'bad input file: {inffile}',\n",
    "            ethrown=None\n",
    "        )\n",
    "    except :\n",
    "        print('exception caught...')"
   ]
  },
  {
   "cell_type": "code",
   "execution_count": 4,
   "metadata": {},
   "outputs": [
    {
     "name": "stdout",
     "output_type": "stream",
     "text": [
      "done\n"
     ]
    }
   ],
   "source": [
    "try :\n",
    "    sys.exit(0)\n",
    "except :\n",
    "    print(f'done')"
   ]
  }
 ],
 "metadata": {
  "kernelspec": {
   "display_name": "Python 3",
   "language": "python",
   "name": "python3"
  },
  "language_info": {
   "codemirror_mode": {
    "name": "ipython",
    "version": 3
   },
   "file_extension": ".py",
   "mimetype": "text/x-python",
   "name": "python",
   "nbconvert_exporter": "python",
   "pygments_lexer": "ipython3",
   "version": "3.11.6"
  }
 },
 "nbformat": 4,
 "nbformat_minor": 2
}
