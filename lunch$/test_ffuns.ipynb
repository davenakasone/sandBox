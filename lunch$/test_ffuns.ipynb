{
 "cells": [
  {
   "attachments": {},
   "cell_type": "markdown",
   "metadata": {},
   "source": [
    "## test 'ffuns' package"
   ]
  },
  {
   "cell_type": "code",
   "execution_count": 16,
   "metadata": {},
   "outputs": [],
   "source": [
    "# import os\n",
    "# import sys\n",
    "# path_ffun = os.path.abspath(\"./ffuns/\")\n",
    "# sys.path.append(path_ffun)\n",
    "\n",
    "from ffuns import ALLOWABLE_DIFFERENCE\n",
    "\n",
    "from ffuns import lumpsum_pv_given_r_n_fv  # t1\n",
    "from ffuns import lumpsum_fv_given_r_n_pv  # t2\n",
    "from ffuns import lumpsum_n_given_r_pv_fv  # t3\n",
    "from ffuns import lumpsum_r_given_n_pv_fv  # t4\n",
    "from ffuns import annuity_pv_given_pmt_n_r # t5\n",
    "from ffuns import annuity_fv_given_pmt_n_r # t6\n",
    "from ffuns import annuity_r_given_pmt_n_fv # t7\n",
    "from ffuns import annuity_r_given_pmt_n_pv # t8\n",
    "from ffuns import annuity_n_given_pmt_r_fv # t9\n",
    "from ffuns import annuity_n_given_pmt_r_pv # t10\n",
    "from ffuns import annuity_pmt_given_n_r_fv # t11\n",
    "from ffuns import annuity_pmt_given_n_r_pv # t12"
   ]
  },
  {
   "cell_type": "code",
   "execution_count": 17,
   "metadata": {},
   "outputs": [],
   "source": [
    "TEST_GOOD = \"SUCCESS\"\n",
    "TEST_BAD = \"!!! FAILURE !!!\"\n",
    "_PASSED = []\n",
    "_FAILED = []"
   ]
  },
  {
   "cell_type": "code",
   "execution_count": 18,
   "metadata": {},
   "outputs": [
    {
     "name": "stdout",
     "output_type": "stream",
     "text": [
      "r  = 5.000%\n",
      "n  = 1.0\n",
      "fv = 105.00\n",
      "--> ffun --> lumpsum_pv_given_r_n_fv()\n",
      "pv = 100.00\n",
      "SUCCESS\n"
     ]
    }
   ],
   "source": [
    "# t1\n",
    "t1 = f\"{lumpsum_pv_given_r_n_fv.__name__}()\"\n",
    "t1_r  = 0.05\n",
    "t1_n  = 1.0\n",
    "t1_fv = 105.0\n",
    "print(f\"r  = {t1_r:.3%}\")\n",
    "print(f\"n  = {t1_n:0.1f}\")\n",
    "print(f\"fv = {t1_fv:,.2f}\")\n",
    "print(f\"--> ffun --> {t1}\")\n",
    "t1_pv = lumpsum_pv_given_r_n_fv(t1_r, t1_n, t1_fv)\n",
    "print(f\"pv = {t1_pv:,.2f}\")\n",
    "t1_test = (t1_fv / (1 + t1_r)**t1_n)\n",
    "if abs(t1_pv - t1_test) < ALLOWABLE_DIFFERENCE:\n",
    "    print(TEST_GOOD)\n",
    "    _PASSED.append(t1)\n",
    "else :\n",
    "    print(f\"{TEST_BAD}  ,  expected:  {t1_test:,.2f}\")\n",
    "    _FAILED.append(t1)"
   ]
  },
  {
   "cell_type": "code",
   "execution_count": 19,
   "metadata": {},
   "outputs": [
    {
     "name": "stdout",
     "output_type": "stream",
     "text": [
      "r  = 5.000%\n",
      "n  = 1.0\n",
      "pv = 100.00\n",
      "--> ffun --> lumpsum_fv_given_r_n_pv()\n",
      "fv = 105.00\n",
      "SUCCESS\n"
     ]
    }
   ],
   "source": [
    "# t2\n",
    "t2 = f\"{lumpsum_fv_given_r_n_pv.__name__}()\"\n",
    "t2_r  = 0.05\n",
    "t2_n  = 1.0\n",
    "t2_pv = 100.0\n",
    "print(f\"r  = {t2_r:.3%}\")\n",
    "print(f\"n  = {t2_n:0.1f}\")\n",
    "print(f\"pv = {t2_pv:,.2f}\")\n",
    "print(f\"--> ffun --> {t2}\")\n",
    "t2_fv = lumpsum_fv_given_r_n_pv(t2_r, t2_n, t2_pv)\n",
    "print(f\"fv = {t2_fv:,.2f}\")\n",
    "t2_test = (t2_pv * (1 + t2_r)**t2_n)\n",
    "if abs(t2_fv - t2_test) < ALLOWABLE_DIFFERENCE :\n",
    "    print(TEST_GOOD)\n",
    "    _PASSED.append(t2)\n",
    "else :\n",
    "    print(f\"{TEST_BAD}  ,  expected:  {t2_test:,.2f}\")\n",
    "    _FAILED.append(t2)"
   ]
  },
  {
   "cell_type": "code",
   "execution_count": 20,
   "metadata": {},
   "outputs": [
    {
     "name": "stdout",
     "output_type": "stream",
     "text": [
      "r  = 5.000%\n",
      "pv = 100.00\n",
      "fv = 105.00\n",
      "--> ffun --> lumpsum_n_given_r_pv_fv()\n",
      "n = 1.0\n",
      "SUCCESS\n"
     ]
    }
   ],
   "source": [
    "# t3\n",
    "t3 = f\"{lumpsum_n_given_r_pv_fv.__name__}()\"\n",
    "t3_r  = 0.05\n",
    "t3_pv = 100.0\n",
    "t3_fv = 105.0\n",
    "print(f\"r  = {t3_r:.3%}\")\n",
    "print(f\"pv = {t3_pv:,.2f}\")\n",
    "print(f\"fv = {t3_fv:,.2f}\")\n",
    "print(f\"--> ffun --> {t3}\")\n",
    "t3_n = lumpsum_n_given_r_pv_fv(t3_r, t3_pv, t3_fv)\n",
    "t3_test = lumpsum_pv_given_r_n_fv(t3_r, t3_n, t3_fv)\n",
    "print(f\"n = {t3_n:0.1f}\")\n",
    "if abs(t3_pv - t3_test) < ALLOWABLE_DIFFERENCE :\n",
    "    print(TEST_GOOD)\n",
    "    _PASSED.append(t3)\n",
    "else :\n",
    "    print(f\"{TEST_BAD}  ,  expected:  {t3_test:,.2f}\")\n",
    "    _FAILED.append(t3)"
   ]
  },
  {
   "cell_type": "code",
   "execution_count": 21,
   "metadata": {},
   "outputs": [
    {
     "name": "stdout",
     "output_type": "stream",
     "text": [
      "n  = 1.0\n",
      "pv = 100.00\n",
      "fv = 105.00\n",
      "--> ffun --> lumpsum_r_given_n_pv_fv()\n",
      "r = 5.000%\n",
      "SUCCESS\n"
     ]
    }
   ],
   "source": [
    "# t4\n",
    "t4 = f\"{lumpsum_r_given_n_pv_fv.__name__}()\"\n",
    "t4_n  = 1.0\n",
    "t4_pv = 100.0\n",
    "t4_fv = 105.0\n",
    "print(f\"n  = {t4_n:0.1f}\")\n",
    "print(f\"pv = {t4_pv:,.2f}\")\n",
    "print(f\"fv = {t4_fv:,.2f}\")\n",
    "print(f\"--> ffun --> {t4}\")\n",
    "t4_r = lumpsum_r_given_n_pv_fv(t4_n, t4_pv, t4_fv)\n",
    "print(f\"r = {t4_r:.3%}\")\n",
    "t4_test = lumpsum_fv_given_r_n_pv(t4_r, t4_n, t4_pv)\n",
    "if abs(t4_fv - t4_test) < ALLOWABLE_DIFFERENCE :\n",
    "    print(TEST_GOOD)\n",
    "    _PASSED.append(t4)\n",
    "else :\n",
    "    print(f\"{TEST_BAD}  ,  expected:  {t3_test:.3%}\")\n",
    "    _FAILED.append(t4)"
   ]
  },
  {
   "cell_type": "code",
   "execution_count": 22,
   "metadata": {},
   "outputs": [
    {
     "name": "stdout",
     "output_type": "stream",
     "text": [
      "pmt  = 1,000.00\n",
      "n    = 10.0\n",
      "r    = 7.700%\n",
      "--> ffun --> annuity_pv_given_pmt_n_r()\n",
      "pv = 6,801.83\n",
      "SUCCESS\n"
     ]
    }
   ],
   "source": [
    "# t5\n",
    "t5 = f\"{annuity_pv_given_pmt_n_r.__name__}()\"\n",
    "t5_pmt = 1.0e3\n",
    "t5_n   = 10.0\n",
    "t5_r   = 0.077\n",
    "print(f\"pmt  = {t5_pmt:,.2f}\")\n",
    "print(f\"n    = {t5_n:0.1f}\")\n",
    "print(f\"r    = {t5_r:.3%}\")\n",
    "print(f\"--> ffun --> {t5}\")\n",
    "t5_pv = annuity_pv_given_pmt_n_r(t5_pmt, t5_n, t5_r)\n",
    "print(f\"pv = {t5_pv:,.2f}\")\n",
    "t5_test = 0.0\n",
    "for ii in range(0, int(t5_n)) :\n",
    "    t5_test += lumpsum_pv_given_r_n_fv(t5_r, ii+1, t5_pmt)\n",
    "if abs(t5_pv - t5_test) < ALLOWABLE_DIFFERENCE :\n",
    "    print(TEST_GOOD)\n",
    "    _PASSED.append(t5)\n",
    "else :\n",
    "    print(f\"{TEST_BAD}  ,  expected:  {t5_test:,.2f}\")\n",
    "    _FAILED.append(t5)"
   ]
  },
  {
   "cell_type": "code",
   "execution_count": 23,
   "metadata": {},
   "outputs": [
    {
     "name": "stdout",
     "output_type": "stream",
     "text": [
      "pmt  = 1,000.00\n",
      "n    = 5.0\n",
      "r    = 5.000%\n",
      "--> ffun --> annuity_fv_given_pmt_n_r()\n",
      "fv = 5,525.63\n",
      "SUCCESS\n"
     ]
    }
   ],
   "source": [
    "# t6\n",
    "t6 = f\"{annuity_fv_given_pmt_n_r.__name__}()\"\n",
    "t6_pmt = 1.0e3\n",
    "t6_n   = 5.0\n",
    "t6_r   = 0.05\n",
    "print(f\"pmt  = {t6_pmt:,.2f}\")\n",
    "print(f\"n    = {t6_n:0.1f}\")\n",
    "print(f\"r    = {t6_r:.3%}\")\n",
    "print(f\"--> ffun --> {t6}\")\n",
    "t6_fv = annuity_fv_given_pmt_n_r(t6_pmt, t6_n, t6_r)\n",
    "print(f\"fv = {t6_fv:,.2f}\")\n",
    "t6_test = 0.0\n",
    "for ii in range(0, int(t6_n)) :\n",
    "    t6_test += lumpsum_fv_given_r_n_pv(t6_r, ii, t6_pmt)\n",
    "if abs(t6_fv - t6_test) < ALLOWABLE_DIFFERENCE :\n",
    "    print(TEST_GOOD)\n",
    "    _PASSED.append(t6)\n",
    "else :\n",
    "    print(f\"{TEST_BAD}  ,  expected:  {t6_test:,.2f}\")\n",
    "    _FAILED.append(t6)"
   ]
  },
  {
   "cell_type": "code",
   "execution_count": 24,
   "metadata": {},
   "outputs": [
    {
     "name": "stdout",
     "output_type": "stream",
     "text": [
      "pmt  = 1,000.00\n",
      "n    = 5.0\n",
      "fv   = 5,525.63\n",
      "--> ffun --> annuity_r_given_pmt_n_fv()\n",
      "r = 5.000%\n",
      "SUCCESS\n"
     ]
    }
   ],
   "source": [
    "# t7\n",
    "t7 = f\"{annuity_r_given_pmt_n_fv.__name__}()\"\n",
    "t7_pmt = 1.0e3\n",
    "t7_n   = 5.0\n",
    "t7_fv  = 5525.63\n",
    "print(f\"pmt  = {t7_pmt:,.2f}\")\n",
    "print(f\"n    = {t7_n:0.1f}\")\n",
    "print(f\"fv   = {t7_fv:,.2f}\")    \n",
    "print(f\"--> ffun --> {t7}\")\n",
    "t7_r = annuity_r_given_pmt_n_fv(t7_pmt, t7_n, t7_fv)\n",
    "print(f\"r = {t7_r:,.3%}\")\n",
    "t7_test = annuity_fv_given_pmt_n_r(t7_pmt, t7_n, t7_r)\n",
    "if abs(t7_test - t7_fv) < ALLOWABLE_DIFFERENCE :\n",
    "    print(TEST_GOOD)\n",
    "    _PASSED.append(t7)\n",
    "else :\n",
    "    print(f\"{TEST_BAD}  ,  expected:  {t7_test:,.2f}\")\n",
    "    _FAILED.append(t7)"
   ]
  },
  {
   "cell_type": "code",
   "execution_count": 25,
   "metadata": {},
   "outputs": [
    {
     "name": "stdout",
     "output_type": "stream",
     "text": [
      "pmt  = 1,000.00\n",
      "n    = 5.0\n",
      "pv   = 4,329.48\n",
      "--> ffun --> annuity_r_given_pmt_n_pv()\n",
      "r = 5.000%\n",
      "SUCCESS\n"
     ]
    }
   ],
   "source": [
    "# t8\n",
    "t8 = f\"{annuity_r_given_pmt_n_pv.__name__}()\"\n",
    "t8_pmt = 1.0e3\n",
    "t8_n   = 5.0\n",
    "t8_pv  = 4329.48\n",
    "print(f\"pmt  = {t8_pmt:,.2f}\")\n",
    "print(f\"n    = {t8_n:0.1f}\")\n",
    "print(f\"pv   = {t8_pv:,.2f}\")    \n",
    "print(f\"--> ffun --> {t8}\")\n",
    "t8_r = annuity_r_given_pmt_n_pv(t8_pmt, t8_n, t8_pv)\n",
    "print(f\"r = {t8_r:,.3%}\")\n",
    "t8_test = annuity_pv_given_pmt_n_r(t8_pmt, t8_n, t8_r)\n",
    "if abs(t8_test - t8_pv) < ALLOWABLE_DIFFERENCE :\n",
    "    print(TEST_GOOD)\n",
    "    _PASSED.append(t8)\n",
    "else :\n",
    "    print(f\"{TEST_BAD}  ,  expected:  {t8_test:,.2f}\")\n",
    "    _FAILED.append(t8)"
   ]
  },
  {
   "cell_type": "code",
   "execution_count": 26,
   "metadata": {},
   "outputs": [
    {
     "name": "stdout",
     "output_type": "stream",
     "text": [
      "pmt  = 1,000.00\n",
      "r    = 5.000%\n",
      "fv   = 5,525.63\n",
      "--> ffun --> annuity_n_given_pmt_r_fv()\n",
      "n    = 5.0\n",
      "SUCCESS\n"
     ]
    }
   ],
   "source": [
    "# t9\n",
    "t9 = f\"{annuity_n_given_pmt_r_fv.__name__}()\"\n",
    "t9_pmt = 1.0e3\n",
    "t9_r = 0.05\n",
    "t9_fv = 5525.63\n",
    "print(f\"pmt  = {t9_pmt:,.2f}\")\n",
    "print(f\"r    = {t9_r:,.3%}\")\n",
    "print(f\"fv   = {t9_fv:,.2f}\")    \n",
    "print(f\"--> ffun --> {t9}\")\n",
    "t9_n = annuity_n_given_pmt_r_fv(t9_pmt, t9_r, t9_fv)\n",
    "print(f\"n    = {t9_n:0.1f}\")\n",
    "t9_test = annuity_fv_given_pmt_n_r(t9_pmt, t9_n, t9_r)\n",
    "if abs(t9_test - t9_fv) < ALLOWABLE_DIFFERENCE :\n",
    "    print(TEST_GOOD)\n",
    "    _PASSED.append(t9)\n",
    "else :\n",
    "    print(f\"{TEST_BAD}  ,  expected:  {t9_test:,.2f}\")\n",
    "    _FAILED.append(t9)"
   ]
  },
  {
   "cell_type": "code",
   "execution_count": 27,
   "metadata": {},
   "outputs": [
    {
     "name": "stdout",
     "output_type": "stream",
     "text": [
      "pmt  = 1,000.00\n",
      "r    = 5.000%\n",
      "pv   = 4,329.48\n",
      "--> ffun --> annuity_n_given_pmt_r_pv()\n",
      "n    = 5.0\n",
      "SUCCESS\n"
     ]
    }
   ],
   "source": [
    "# t10\n",
    "t10 = f\"{annuity_n_given_pmt_r_pv.__name__}()\"\n",
    "t10_pmt = 1.0e3\n",
    "t10_r = 0.05\n",
    "t10_pv = 4329.48\n",
    "print(f\"pmt  = {t10_pmt:,.2f}\")\n",
    "print(f\"r    = {t10_r:,.3%}\")\n",
    "print(f\"pv   = {t10_pv:,.2f}\")    \n",
    "print(f\"--> ffun --> {t10}\")\n",
    "t10_n = annuity_n_given_pmt_r_pv(t10_pmt, t10_r, t10_pv)\n",
    "print(f\"n    = {t10_n:0.1f}\")\n",
    "t10_test = annuity_pv_given_pmt_n_r(t10_pmt, t10_n, t10_r)\n",
    "if abs(t10_test - t10_pv) < ALLOWABLE_DIFFERENCE :\n",
    "    print(TEST_GOOD)\n",
    "    _PASSED.append(t10)\n",
    "else :\n",
    "    print(f\"{TEST_BAD}  ,  expected:  {t10_test:,.2f}\")\n",
    "    _FAILED.append(t10)"
   ]
  },
  {
   "cell_type": "code",
   "execution_count": 28,
   "metadata": {},
   "outputs": [
    {
     "name": "stdout",
     "output_type": "stream",
     "text": [
      "n  = 5.0\n",
      "r  = 5.000%\n",
      "fv = 5,525.63\n",
      "--> ffun --> annuity_pmt_given_n_r_fv()\n",
      "pmt = 1,000.00\n",
      "SUCCESS\n"
     ]
    }
   ],
   "source": [
    "# t11\n",
    "t11 = f\"{annuity_pmt_given_n_r_fv.__name__}()\"\n",
    "t11_n = 5.0\n",
    "t11_r = 0.05\n",
    "t11_fv = 5525.63\n",
    "print(f\"n  = {t11_n:0.1f}\")\n",
    "print(f\"r  = {t11_r:,.3%}\")\n",
    "print(f\"fv = {t11_fv:,.2f}\")\n",
    "print(f\"--> ffun --> {t11}\")\n",
    "t11_pmt = annuity_pmt_given_n_r_fv(t11_n, t11_r, t11_fv)\n",
    "print(f\"pmt = {t11_pmt:,.2f}\")\n",
    "t11_test = annuity_fv_given_pmt_n_r(t11_pmt, t11_n, t11_r)\n",
    "if abs(t11_test - t11_fv) < ALLOWABLE_DIFFERENCE :\n",
    "    print(TEST_GOOD)\n",
    "    _PASSED.append(t11)\n",
    "else :\n",
    "    print(f\"{TEST_BAD}  ,  expected:  {t11_test:,.2f}\")\n",
    "    _FAILED.append(t11)"
   ]
  },
  {
   "cell_type": "code",
   "execution_count": 29,
   "metadata": {},
   "outputs": [
    {
     "name": "stdout",
     "output_type": "stream",
     "text": [
      "n  = 5.0\n",
      "r  = 5.000%\n",
      "pv = 4,329.48\n",
      "--> ffun --> annuity_pmt_given_n_r_pv()\n",
      "pmt = 1,000.00\n",
      "SUCCESS\n"
     ]
    }
   ],
   "source": [
    "# t12\n",
    "t12 = f\"{annuity_pmt_given_n_r_pv.__name__}()\"\n",
    "t12_n = 5.0\n",
    "t12_r = 0.05\n",
    "t12_pv = 4329.48\n",
    "print(f\"n  = {t12_n:0.1f}\")\n",
    "print(f\"r  = {t12_r:,.3%}\")\n",
    "print(f\"pv = {t12_pv:,.2f}\")\n",
    "print(f\"--> ffun --> {t12}\")\n",
    "t12_pmt = annuity_pmt_given_n_r_pv(t12_n, t12_r, t12_pv)\n",
    "print(f\"pmt = {t12_pmt:,.2f}\")\n",
    "t12_test = annuity_pv_given_pmt_n_r(t12_pmt, t12_n, t12_r)\n",
    "if abs(t12_test - t12_pv) < ALLOWABLE_DIFFERENCE :\n",
    "    print(TEST_GOOD)\n",
    "    _PASSED.append(t12)\n",
    "else :\n",
    "    print(f\"{TEST_BAD}  ,  expected:  {t12_test:,.2f}\")\n",
    "    _FAILED.append(t12)"
   ]
  },
  {
   "cell_type": "code",
   "execution_count": 30,
   "metadata": {},
   "outputs": [
    {
     "name": "stdout",
     "output_type": "stream",
     "text": [
      "functions passed :\n",
      "\tlumpsum_pv_given_r_n_fv()\n",
      "\tlumpsum_fv_given_r_n_pv()\n",
      "\tlumpsum_n_given_r_pv_fv()\n",
      "\tlumpsum_r_given_n_pv_fv()\n",
      "\tannuity_pv_given_pmt_n_r()\n",
      "\tannuity_fv_given_pmt_n_r()\n",
      "\tannuity_r_given_pmt_n_fv()\n",
      "\tannuity_r_given_pmt_n_pv()\n",
      "\tannuity_n_given_pmt_r_fv()\n",
      "\tannuity_n_given_pmt_r_pv()\n",
      "\tannuity_pmt_given_n_r_fv()\n",
      "\tannuity_pmt_given_n_r_pv()\n"
     ]
    }
   ],
   "source": [
    "if len(_FAILED) > 0 :\n",
    "    print(\"failed functions:\")\n",
    "    for failure in _FAILED :\n",
    "        print(f\"\\t{failure}\")\n",
    "print(\"functions passed :\")\n",
    "for fpass in _PASSED :\n",
    "    print(f\"\\t{fpass}\")"
   ]
  }
 ],
 "metadata": {
  "kernelspec": {
   "display_name": "Python 3",
   "language": "python",
   "name": "python3"
  },
  "language_info": {
   "codemirror_mode": {
    "name": "ipython",
    "version": 3
   },
   "file_extension": ".py",
   "mimetype": "text/x-python",
   "name": "python",
   "nbconvert_exporter": "python",
   "pygments_lexer": "ipython3",
   "version": "3.11.0"
  },
  "orig_nbformat": 4
 },
 "nbformat": 4,
 "nbformat_minor": 2
}
